{
 "cells": [
  {
   "cell_type": "markdown",
   "metadata": {
    "execution": {}
   },
   "source": [
    "# Tutorial 3: Neuron Models\n",
    "\n",
    "*Adapted from Neuromatch Academy:*\n",
    "[[1]](https://compneuro.neuromatch.io/tutorials/W2D4_DynamicNetworks/student/W2D4_Tutorial1.html),\n",
    "[[2]](https://compneuro.neuromatch.io/tutorials/W2D4_DynamicNetworks/student/W2D4_Tutorial2.html),\n",
    "[[3]](https://compneuro.neuromatch.io/tutorials/W2D4_DynamicNetworks/student/W2D4_Tutorial3.html)."
   ]
  },
  {
   "cell_type": "markdown",
   "metadata": {
    "execution": {}
   },
   "source": [
    "The brain is a complex system, not because it is composed of a large number of diverse types of neurons, but mainly because of how neurons are connected to each other. The brain is indeed a network of highly specialized neuronal networks.\n",
    "\n",
    "The activity of a neural network constantly evolves in time. For this reason, neurons can be modeled as dynamical systems. The dynamical system approach is only one of the many modeling approaches that computational neuroscientists have developed (other points of view include information processing,  statistical models, etc.).\n",
    "\n",
    "How the dynamics of neuronal networks affect the representation and processing of information in the brain is an open question. However, signatures of altered brain dynamics present in many brain diseases (e.g., in epilepsy or Parkinson's disease) tell us that it is crucial to study network activity dynamics if we want to understand the brain.\n",
    "\n",
    "In this tutorial, we will simulate and study one of the simplest models of biological neuronal networks. Instead of modeling and simulating individual excitatory neurons (e.g., LIF models that you implemented yesterday), we will treat them as a single homogeneous population and approximate their dynamics using a single one-dimensional equation describing the evolution of their average spiking rate in time.\n",
    "\n",
    "In this tutorial, we will learn how to build a firing rate model of a single population of excitatory neurons.\n",
    "\n",
    "**Steps:**\n",
    "- Write the equation for the firing rate dynamics of a 1D excitatory population.\n",
    "- Visualize the response of the population as a function of parameters such as threshold level and gain, using the frequency-current (F-I) curve.\n",
    "- Numerically simulate the dynamics of the excitatory population and find the fixed points of the system."
   ]
  },
  {
   "cell_type": "code",
   "execution_count": null,
   "metadata": {
    "cellView": "both"
   },
   "outputs": [],
   "source": [
    "# Imports\n",
    "import matplotlib.pyplot as plt\n",
    "import numpy as np\n",
    "import scipy.optimize as opt  # root-finding algorithm"
   ]
  },
  {
   "cell_type": "code",
   "execution_count": null,
   "metadata": {
    "cellView": "form",
    "tags": [
     "hide-input"
    ]
   },
   "outputs": [],
   "source": [
    "# @title Figure Settings\n",
    "import logging\n",
    "logging.getLogger('matplotlib.font_manager').disabled = True\n",
    "\n",
    "import ipywidgets as widgets  # interactive display\n",
    "%config InlineBackend.figure_format = 'retina'\n",
    "plt.style.use(\"https://raw.githubusercontent.com/NeuromatchAcademy/course-content/main/nma.mplstyle\")"
   ]
  },
  {
   "cell_type": "markdown",
   "metadata": {},
   "source": [
    "---\n",
    "---\n",
    "# Part 1: Neural Rate Models"
   ]
  },
  {
   "cell_type": "markdown",
   "metadata": {},
   "source": [
    "##  Plotting Functions\n"
   ]
  },
  {
   "cell_type": "code",
   "execution_count": null,
   "metadata": {
    "cellView": "form",
    "tags": [
     "hide-input"
    ]
   },
   "outputs": [],
   "source": [
    "# @title Plotting Functions\n",
    "\n",
    "def plot_fI(x, f):\n",
    "  plt.figure(figsize=(6, 4))  # plot the figure\n",
    "  plt.plot(x, f, 'k')\n",
    "  plt.xlabel('x (a.u.)', fontsize=14)\n",
    "  plt.ylabel('F(x)', fontsize=14)\n",
    "  plt.show()\n",
    "\n",
    "\n",
    "def plot_dr_r(r, drdt, x_fps=None):\n",
    "  plt.figure()\n",
    "  plt.plot(r, drdt, 'k')\n",
    "  plt.plot(r, 0. * r, 'k--')\n",
    "  if x_fps is not None:\n",
    "    plt.plot(x_fps, np.zeros_like(x_fps), \"ko\", ms=12)\n",
    "  plt.xlabel(r'$r$')\n",
    "  plt.ylabel(r'$\\frac{dr}{dt}$', fontsize=20)\n",
    "  plt.ylim(-0.1, 0.1)\n",
    "  plt.show()\n",
    "\n",
    "\n",
    "def plot_dFdt(x, dFdt):\n",
    "  plt.figure()\n",
    "  plt.plot(x, dFdt, 'r')\n",
    "  plt.xlabel('x (a.u.)', fontsize=14)\n",
    "  plt.ylabel('dF(x)', fontsize=14)\n",
    "  plt.show()"
   ]
  },
  {
   "cell_type": "markdown",
   "metadata": {
    "execution": {}
   },
   "source": [
    "---\n",
    "## Section 1: Neuronal network dynamics"
   ]
  },
  {
   "cell_type": "markdown",
   "metadata": {
    "execution": {}
   },
   "source": [
    "### Section 1.1: Dynamics of a single excitatory population\n",
    "\n",
    "Individual neurons respond by spiking. When we average the spikes of neurons in a population, we can define the average firing activity of the population. In this model, we are interested in how the population-averaged firing varies as a function of time and network parameters. Mathematically, we can describe the firing rate dynamic of a feed-forward network as:\n",
    "\n",
    "\\begin{equation}\n",
    "\\tau \\frac{dr}{dt} = -r + F(I_{\\text{ext}})  \\quad\\qquad (1)\n",
    "\\end{equation}\n",
    "\n",
    "$r(t)$ represents the average firing rate of the excitatory population at time $t$, $\\tau$ controls the timescale of the evolution of the average firing rate, $I_{\\text{ext}}$ represents the external input, and the transfer function $F(\\cdot)$ (which can be related to f-I curve of individual neurons described in the next sections) represents the population activation function in response to all received inputs.\n",
    "\n",
    "</details>\n",
    "\n",
    "To start building the model, please execute the cell below to initialize the simulation parameters."
   ]
  },
  {
   "cell_type": "markdown",
   "metadata": {},
   "source": [
    " *Execute this cell to set default parameters for a single excitatory population model*\n"
   ]
  },
  {
   "cell_type": "code",
   "execution_count": null,
   "metadata": {
    "cellView": "form",
    "tags": [
     "hide-input"
    ]
   },
   "outputs": [],
   "source": [
    "# @markdown *Execute this cell to set default parameters for a single excitatory population model*\n",
    "\n",
    "\n",
    "def default_pars_single(**kwargs):\n",
    "  pars = {}\n",
    "\n",
    "  # Excitatory parameters\n",
    "  pars['tau'] = 1.     # Timescale of the E population [ms]\n",
    "  pars['a'] = 1.2      # Gain of the E population\n",
    "  pars['theta'] = 2.8  # Threshold of the E population\n",
    "\n",
    "  # Connection strength\n",
    "  pars['w'] = 0.  # E to E, we first set it to 0\n",
    "\n",
    "  # External input\n",
    "  pars['I_ext'] = 0.\n",
    "\n",
    "  # simulation parameters\n",
    "  pars['T'] = 20.       # Total duration of simulation [ms]\n",
    "  pars['dt'] = .1       # Simulation time step [ms]\n",
    "  pars['r_init'] = 0.2  # Initial value of E\n",
    "\n",
    "  # External parameters if any\n",
    "  pars.update(kwargs)\n",
    "\n",
    "  # Vector of discretized time points [ms]\n",
    "  pars['range_t'] = np.arange(0, pars['T'], pars['dt'])\n",
    "\n",
    "  return pars\n",
    "\n",
    "pars = default_pars_single()\n",
    "print(pars)"
   ]
  },
  {
   "cell_type": "markdown",
   "metadata": {
    "execution": {}
   },
   "source": [
    "You can now use:\n",
    "- `pars = default_pars_single()` to get all the parameters.\n",
    "- `pars = default_pars_single(T=T_sim, dt=time_step)` to set new simulation time and time step\n",
    "- To update an existing parameter dictionary, use `pars['New_para'] = value`\n",
    "\n",
    "Because `pars` is a dictionary, it can be passed to a function that requires individual parameters as arguments using `my_func(**pars)` syntax."
   ]
  },
  {
   "cell_type": "markdown",
   "metadata": {
    "execution": {}
   },
   "source": [
    "### Section 1.2: F-I curves\n",
    "\n",
    "In electrophysiology, a neuron is often characterized by its spike rate output in response to input currents. This is often called the **F-I** curve, denoting the output spike frequency (**F**) in response to different injected currents (**I**).\n",
    "\n",
    "The transfer function $F(\\cdot)$ in Equation $1$ represents the gain of the population as a function of the total input. The gain is often modeled as a sigmoidal function, i.e., more input drive leads to a nonlinear increase in the population firing rate. The output firing rate will eventually saturate for high input values.\n",
    "\n",
    "A sigmoidal $F(\\cdot)$ is parameterized by its gain $a$ and threshold $\\theta$.\n",
    "\n",
    "$$ F(x;a,\\theta) = \\frac{1}{1+\\text{e}^{-a(x-\\theta)}} - \\frac{1}{1+\\text{e}^{a\\theta}}  \\quad(2)$$\n",
    "\n",
    "The argument $x$ represents the input to the population. Note that the second term is chosen so that $F(0;a,\\theta)=0$.\n",
    "\n",
    "Many other transfer functions (generally monotonic) can be also used. Examples are the rectified linear function $ReLU(x)$ or the hyperbolic tangent $tanh(x)$."
   ]
  },
  {
   "cell_type": "markdown",
   "metadata": {
    "execution": {}
   },
   "source": [
    "#### Coding Exercise 1.2: Implement F-I curve\n",
    "\n",
    "Let's first investigate the activation functions before simulating the dynamics of the entire population.\n",
    "\n",
    "In this exercise, you will implement a sigmoidal **F-I** curve or transfer function $F(x)$, with gain $a$ and threshold level $\\theta$ as parameters:\n",
    "\n",
    "\\begin{equation}\n",
    "F(x;a,\\theta) = \\frac{1}{1+\\text{e}^{-a(x-\\theta)}} - \\frac{1}{1+\\text{e}^{a\\theta}}\n",
    "\\end{equation}"
   ]
  },
  {
   "cell_type": "code",
   "execution_count": null,
   "metadata": {},
   "outputs": [],
   "source": [
    "def F(x, a, theta):\n",
    "  \"\"\"\n",
    "  Population activation function.\n",
    "\n",
    "  Args:\n",
    "    x (float): the population input\n",
    "    a (float): the gain of the function\n",
    "    theta (float): the threshold of the function\n",
    "\n",
    "  Returns:\n",
    "    float: the population activation response F(x) for input x\n",
    "  \"\"\"\n",
    "  #################################################\n",
    "  ## TODO for students: compute f = F(x) ##\n",
    "  # Fill out function and remove\n",
    "  raise NotImplementedError(\"Student exercise: implement the f-I function\")\n",
    "  #################################################\n",
    "\n",
    "  # Define the sigmoidal transfer function f = F(x)\n",
    "  f = ...\n",
    "\n",
    "  return f\n",
    "\n",
    "\n",
    "# Set parameters\n",
    "pars = default_pars_single()  # get default parameters\n",
    "x = np.arange(0, 10, .1)      # set the range of input\n",
    "\n",
    "# Compute transfer function\n",
    "f = F(x, pars['a'], pars['theta'])\n",
    "\n",
    "# Visualize\n",
    "plot_fI(x, f)"
   ]
  },
  {
   "cell_type": "markdown",
   "metadata": {
    "cellView": "both",
    "colab_type": "text",
    "execution": {}
   },
   "source": [
    "[*Click for solution*](https://github.com/NeuromatchAcademy/course-content/tree/main/tutorials/W2D4_DynamicNetworks/solutions/W2D4_Tutorial1_Solution_04e84428.py)\n",
    "\n",
    "*Example output:*\n",
    "\n",
    "<img alt='Solution hint' align='left' width=577.0 height=378.0 src=https://raw.githubusercontent.com/NeuromatchAcademy/course-content/main/tutorials/W2D4_DynamicNetworks/static/W2D4_Tutorial1_Solution_04e84428_0.png>\n",
    "\n"
   ]
  },
  {
   "cell_type": "markdown",
   "metadata": {
    "execution": {}
   },
   "source": [
    "#### Interactive Demo 1.2 : Parameter exploration of F-I curve\n",
    "\n",
    "Here's an interactive demo that shows how the F-I curve changes for different values of the gain and threshold parameters.\n",
    "\n",
    "1. How does the gain parameter ($a$) affect the F-I curve?\n",
    "2. How does the threshold parameter ($\\theta$) affect the F-I curve?"
   ]
  },
  {
   "cell_type": "markdown",
   "metadata": {},
   "source": [
    " Make sure you execute this cell to enable the widget!\n"
   ]
  },
  {
   "cell_type": "code",
   "execution_count": null,
   "metadata": {
    "cellView": "form",
    "tags": [
     "hide-input"
    ]
   },
   "outputs": [],
   "source": [
    "# @markdown Make sure you execute this cell to enable the widget!\n",
    "\n",
    "@widgets.interact(\n",
    "    a=widgets.FloatSlider(1.5, min=0.3, max=3., step=0.3),\n",
    "    theta=widgets.FloatSlider(3., min=2., max=4., step=0.2)\n",
    ")\n",
    "\n",
    "\n",
    "def interactive_plot_FI(a, theta):\n",
    "  \"\"\"\n",
    "  Population activation function.\n",
    "\n",
    "  Expecxts:\n",
    "    a     : the gain of the function\n",
    "    theta : the threshold of the function\n",
    "\n",
    "  Returns:\n",
    "    plot the F-I curve with give parameters\n",
    "  \"\"\"\n",
    "\n",
    "  # set the range of input\n",
    "  x = np.arange(0, 10, .1)\n",
    "  plt.figure()\n",
    "  plt.plot(x, F(x, a, theta), 'k')\n",
    "  plt.xlabel('x (a.u.)', fontsize=14)\n",
    "  plt.ylabel('F(x)', fontsize=14)\n",
    "  plt.show()"
   ]
  },
  {
   "cell_type": "markdown",
   "metadata": {
    "colab_type": "text",
    "execution": {}
   },
   "source": [
    "[*Click for solution*](https://github.com/NeuromatchAcademy/course-content/tree/main/tutorials/W2D4_DynamicNetworks/solutions/W2D4_Tutorial1_Solution_89e4146a.py)"
   ]
  },
  {
   "cell_type": "markdown",
   "metadata": {
    "execution": {}
   },
   "source": [
    "### Section 1.3: Simulation scheme of E dynamics\n",
    "\n",
    "Because $F(\\cdot)$ is a nonlinear function, the exact solution of our differential equation of population activity can not be determined via analytical methods. As we have seen before, we can use numerical methods, specifically the Euler method, to find the solution (that is, simulate the population activity)."
   ]
  },
  {
   "cell_type": "markdown",
   "metadata": {},
   "source": [
    " Execute this cell to enable the single population rate model simulator: `simulate_single`\n"
   ]
  },
  {
   "cell_type": "code",
   "execution_count": null,
   "metadata": {
    "cellView": "form",
    "tags": [
     "hide-input"
    ]
   },
   "outputs": [],
   "source": [
    "# @markdown Execute this cell to enable the single population rate model simulator: `simulate_single`\n",
    "\n",
    "\n",
    "def simulate_single(pars):\n",
    "  \"\"\"\n",
    "  Simulate an excitatory population of neurons\n",
    "\n",
    "  Args:\n",
    "    pars   : Parameter dictionary\n",
    "\n",
    "  Returns:\n",
    "    rE     : Activity of excitatory population (array)\n",
    "\n",
    "  Example:\n",
    "    pars = default_pars_single()\n",
    "    r = simulate_single(pars)\n",
    "  \"\"\"\n",
    "\n",
    "  # Set parameters\n",
    "  tau, a, theta = pars['tau'], pars['a'], pars['theta']\n",
    "  w = pars['w']\n",
    "  I_ext = pars['I_ext']\n",
    "  r_init = pars['r_init']\n",
    "  dt, range_t = pars['dt'], pars['range_t']\n",
    "  Lt = range_t.size\n",
    "\n",
    "  # Initialize activity\n",
    "  r = np.zeros(Lt)\n",
    "  r[0] = r_init\n",
    "  I_ext = I_ext * np.ones(Lt)\n",
    "\n",
    "  # Update the E activity\n",
    "  for k in range(Lt - 1):\n",
    "      dr = dt / tau * (-r[k] + F(w * r[k] + I_ext[k], a, theta))\n",
    "      r[k+1] = r[k] + dr\n",
    "\n",
    "  return r\n",
    "\n",
    "\n",
    "help(simulate_single)"
   ]
  },
  {
   "cell_type": "markdown",
   "metadata": {
    "execution": {}
   },
   "source": [
    "#### Interactive Demo 1.3: Parameter Exploration of single population dynamics\n",
    "\n",
    "Explore these dynamics of the population activity in this interactive demo.\n",
    "\n",
    "1.  How does $r_{\\text{sim}}(t)$ change with different $I_{\\text{ext}}$ values?\n",
    "2.  How does it change with different $\\tau$ values?\n",
    "\n",
    "<br>\n",
    "\n",
    "Note that, $r_{\\rm ana}(t)$ denotes the analytical solution - you will learn how this is computed in the next section."
   ]
  },
  {
   "cell_type": "markdown",
   "metadata": {},
   "source": [
    " Make sure you execute this cell to enable the widget!\n"
   ]
  },
  {
   "cell_type": "code",
   "execution_count": null,
   "metadata": {
    "cellView": "form",
    "tags": [
     "hide-input"
    ]
   },
   "outputs": [],
   "source": [
    "# @title\n",
    "\n",
    "# @markdown Make sure you execute this cell to enable the widget!\n",
    "\n",
    "# get default parameters\n",
    "pars = default_pars_single(T=20.)\n",
    "\n",
    "@widgets.interact(\n",
    "    I_ext=widgets.FloatSlider(5.0, min=0.0, max=10., step=1.),\n",
    "    tau=widgets.FloatSlider(3., min=1., max=5., step=0.2)\n",
    ")\n",
    "\n",
    "\n",
    "def Myplot_E_diffI_difftau(I_ext, tau):\n",
    "  # set external input and time constant\n",
    "  pars['I_ext'] = I_ext\n",
    "  pars['tau'] = tau\n",
    "\n",
    "  # simulation\n",
    "  r = simulate_single(pars)\n",
    "\n",
    "  # Analytical Solution\n",
    "  r_ana = (pars['r_init']\n",
    "           + (F(I_ext, pars['a'], pars['theta'])\n",
    "           - pars['r_init']) * (1. - np.exp(-pars['range_t'] / pars['tau'])))\n",
    "\n",
    "  # plot\n",
    "  plt.figure()\n",
    "  plt.plot(pars['range_t'], r, 'b', label=r'$r_{\\mathrm{sim}}$(t)', alpha=0.5,\n",
    "           zorder=1)\n",
    "  plt.plot(pars['range_t'], r_ana, 'b--', lw=5, dashes=(2, 2),\n",
    "           label=r'$r_{\\mathrm{ana}}$(t)', zorder=2)\n",
    "  plt.plot(pars['range_t'],\n",
    "           F(I_ext, pars['a'], pars['theta']) * np.ones(pars['range_t'].size),\n",
    "           'k--', label=r'$F(I_{\\mathrm{ext}})$')\n",
    "  plt.xlabel('t (ms)', fontsize=16.)\n",
    "  plt.ylabel('Activity r(t)', fontsize=16.)\n",
    "  plt.legend(loc='best', fontsize=14.)\n",
    "  plt.show()"
   ]
  },
  {
   "cell_type": "markdown",
   "metadata": {
    "colab_type": "text",
    "execution": {}
   },
   "source": [
    "[*Click for solution*](https://github.com/NeuromatchAcademy/course-content/tree/main/tutorials/W2D4_DynamicNetworks/solutions/W2D4_Tutorial1_Solution_349d9faf.py)\n",
    "\n"
   ]
  },
  {
   "cell_type": "markdown",
   "metadata": {
    "execution": {}
   },
   "source": [
    "#### Think! 1.3: Finite activities\n",
    "\n",
    "Above, we have numerically solved a system driven by a positive input. Yet, $r_E(t)$ either decays to zero or reaches a fixed non-zero value.\n",
    "\n",
    "1. Why doesn't the solution of the system \"explode\" in a finite time? In other words, what guarantees that $r_E$(t) stays finite?\n",
    "2. Which parameter would you change in order to increase the maximum value of the response?"
   ]
  },
  {
   "cell_type": "markdown",
   "metadata": {
    "colab_type": "text",
    "execution": {}
   },
   "source": [
    "[*Click for solution*](https://github.com/NeuromatchAcademy/course-content/tree/main/tutorials/W2D4_DynamicNetworks/solutions/W2D4_Tutorial1_Solution_86ae968b.py)"
   ]
  },
  {
   "cell_type": "markdown",
   "metadata": {
    "execution": {}
   },
   "source": [
    "---\n",
    "## Section 2: Fixed points of the single population system\n",
    "\n",
    "### Section 2.1: Finding fixed points"
   ]
  },
  {
   "cell_type": "markdown",
   "metadata": {
    "execution": {}
   },
   "source": [
    "We can now extend our feed-forward network to a recurrent network, governed by the equation:\n",
    "\n",
    "\\begin{align}\n",
    "\\tau \\frac{\\mathrm{d}r}{\\mathrm{d}t} &= -r + F(w\\cdot r + I_{\\text{ext}})  \\quad\\qquad (3)\n",
    "\\end{align}\n",
    "\n",
    "where as before, $r(t)$ represents the average firing rate of the excitatory population at time $t$, $\\tau$ controls the timescale of the evolution of the average firing rate, $I_{\\text{ext}}$ represents the external input, and the transfer function $F(\\cdot)$ (which can be related to f-I curve of individual neurons described in the next sections) represents the population activation function in response to all received inputs. Now we also have $w$ which denotes the strength (synaptic weight) of the recurrent input to the population.\n",
    "\n",
    "As you varied the two parameters in the last Interactive Demo, you noticed that, while at first the system output quickly changes, with time, it reaches its maximum/minimum value and does not change anymore. The value eventually reached by the system is called the **steady state** of the system, or the **fixed point**. Essentially, in the steady states the derivative with respect to time of the activity ($r$) is zero, i.e. $\\displaystyle \\frac{\\mathrm{d}r}{\\mathrm{d}t}=0$.\n",
    "\n",
    "We can find that the steady state of the Equation. (1) by setting $\\displaystyle{\\frac{\\mathrm{d}r}{\\mathrm{d}t}=0}$ and solve for $r$:\n",
    "\n",
    "\\begin{equation}\n",
    "-r_{\\text{steady}} + F(w\\cdot r_{\\text{steady}} + I_{\\text{ext}};a,\\theta) = 0 \\qquad (4)\n",
    "\\end{equation}\n",
    "\n",
    "When it exists, the solution of Equation. (4) defines a **fixed point** of the dynamical system in Equation (3). Note that if $F(x)$ is nonlinear, it is not always possible to find an analytical solution, but the solution can be found via numerical simulations, as we will do later.\n",
    "\n",
    "From the Interactive Demo, one could also notice that the value of $\\tau$ influences how quickly the activity will converge to the steady state from its initial value.\n",
    "\n",
    "In the specific case of $w=0$, we can also analytically compute  the solution of Equation (1) (i.e., the thick blue dashed line) and deduce the role of $\\tau$ in determining the convergence to the fixed point:\n",
    "\n",
    "\\begin{equation}\n",
    "\\displaystyle{r(t) = \\big{[}F(I_{\\text{ext}};a,\\theta) -r(t=0)\\big{]} (1-\\text{e}^{-\\frac{t}{\\tau}})} + r(t=0)\n",
    "\\end{equation}\n",
    "\n",
    "<br>\n",
    "\n",
    "We can now numerically calculate the fixed point with a root finding algorithm."
   ]
  },
  {
   "cell_type": "markdown",
   "metadata": {
    "execution": {}
   },
   "source": [
    "#### Coding Exercise 2.1.1: Visualization of the fixed points\n",
    "\n",
    "When it is not possible to find the solution for Equation (3) analytically, a graphical approach can be taken. To that end, it is useful to plot $\\displaystyle{\\frac{\\mathrm{d}r}{\\mathrm{d}t}}$ as a function of $r$. The values of $r$ for which the plotted function crosses zero on the y axis correspond to fixed points.\n",
    "\n",
    "Here, let us, for example, set $w=5.0$ and $I^{\\text{ext}}=0.5$. From Equation (3), you can obtain\n",
    "\n",
    "\\begin{equation}\n",
    "\\frac{\\mathrm{d}r}{\\mathrm{d}t} = [-r + F(w\\cdot r + I^{\\text{ext}})]\\,/\\,\\tau\n",
    "\\end{equation}\n",
    "\n",
    "Then, plot the $\\mathrm{d}r/\\mathrm{d}t$ as a function of $r$, and check for the presence of fixed points."
   ]
  },
  {
   "cell_type": "code",
   "execution_count": null,
   "metadata": {},
   "outputs": [],
   "source": [
    "def compute_drdt(r, I_ext, w, a, theta, tau, **other_pars):\n",
    "  \"\"\"Given parameters, compute dr/dt as a function of r.\n",
    "\n",
    "  Args:\n",
    "    r (1D array) : Average firing rate of the excitatory population\n",
    "    I_ext, w, a, theta, tau (numbers): Simulation parameters to use\n",
    "    other_pars : Other simulation parameters are unused by this function\n",
    "\n",
    "  Returns\n",
    "    drdt function for each value of r\n",
    "  \"\"\"\n",
    "  #########################################################################\n",
    "  # TODO compute drdt and disable the error\n",
    "  raise NotImplementedError(\"Finish the compute_drdt function\")\n",
    "  #########################################################################\n",
    "\n",
    "  # Calculate drdt\n",
    "  drdt = ...\n",
    "\n",
    "  return drdt\n",
    "\n",
    "\n",
    "# Define a vector of r values and the simulation parameters\n",
    "r = np.linspace(0, 1, 1000)\n",
    "pars = default_pars_single(I_ext=0.5, w=5)\n",
    "\n",
    "# Compute dr/dt\n",
    "drdt = compute_drdt(r, **pars)\n",
    "\n",
    "# Visualize\n",
    "plot_dr_r(r, drdt)"
   ]
  },
  {
   "cell_type": "markdown",
   "metadata": {
    "colab_type": "text",
    "execution": {}
   },
   "source": [
    "[*Click for solution*](https://github.com/NeuromatchAcademy/course-content/tree/main/tutorials/W2D4_DynamicNetworks/solutions/W2D4_Tutorial1_Solution_c4108be6.py)\n",
    "\n",
    "*Example output:*\n",
    "\n",
    "<img alt='Solution hint' align='left' width=778.0 height=577.0 src=https://raw.githubusercontent.com/NeuromatchAcademy/course-content/main/tutorials/W2D4_DynamicNetworks/static/W2D4_Tutorial1_Solution_c4108be6_0.png>\n",
    "\n"
   ]
  },
  {
   "cell_type": "markdown",
   "metadata": {
    "execution": {}
   },
   "source": [
    "#### Coding Exercise 2.1.2: Numerical calculation of fixed points\n",
    "\n",
    "We will now find the fixed points numerically. To do so, we need to specify initial values ($r_{\\text{guess}}$) for the root-finding algorithm to start from. From the line $\\displaystyle{\\frac{\\mathrm{d}r}{\\mathrm{d}t}}$ plotted above in the last exercise, initial values can be chosen as a set of values close to where the line crosses zero on the y axis (real fixed point).\n",
    "\n",
    "The next cell defines three helper functions that we will use:\n",
    "\n",
    "- `my_fp_single(r_guess, **pars)` uses a root-finding algorithm to locate a fixed point near a given initial value\n",
    "- `check_fp_single(x_fp, **pars)` verifies that the values of $r_{\\rm fp}$ for which $\\displaystyle{\\frac{dr}{dt}} = 0$ are the true fixed points\n",
    "- `my_fp_finder(r_guess_vector, **pars)` accepts an array of initial values and finds the same number of fixed points, using the above two functions"
   ]
  },
  {
   "cell_type": "markdown",
   "metadata": {},
   "source": [
    " Execute this cell to enable the fixed point functions\n"
   ]
  },
  {
   "cell_type": "code",
   "execution_count": null,
   "metadata": {
    "cellView": "form",
    "tags": [
     "hide-input"
    ]
   },
   "outputs": [],
   "source": [
    "# @markdown Execute this cell to enable the fixed point functions\n",
    "\n",
    "def my_fp_single(r_guess, a, theta, w, I_ext, **other_pars):\n",
    "  \"\"\"\n",
    "  Calculate the fixed point through drE/dt=0\n",
    "\n",
    "  Args:\n",
    "    r_guess  : Initial value used for scipy.optimize function\n",
    "    a, theta, w, I_ext : simulation parameters\n",
    "\n",
    "  Returns:\n",
    "    x_fp    : value of fixed point\n",
    "  \"\"\"\n",
    "  # define the right hand of E dynamics\n",
    "  def my_WCr(x):\n",
    "    r = x\n",
    "    drdt = (-r + F(w * r + I_ext, a, theta))\n",
    "    y = np.array(drdt)\n",
    "\n",
    "    return y\n",
    "\n",
    "  x0 = np.array(r_guess)\n",
    "  x_fp = opt.root(my_WCr, x0).x.item()\n",
    "\n",
    "  return x_fp\n",
    "\n",
    "\n",
    "def check_fp_single(x_fp, a, theta, w, I_ext, mytol=1e-4, **other_pars):\n",
    "  \"\"\"\n",
    "   Verify |dr/dt| < mytol\n",
    "\n",
    "  Args:\n",
    "    fp      : value of fixed point\n",
    "    a, theta, w, I_ext: simulation parameters\n",
    "    mytol   : tolerance, default as 10^{-4}\n",
    "\n",
    "  Returns :\n",
    "    Whether it is a correct fixed point: True/False\n",
    "  \"\"\"\n",
    "  # calculate Equation(3)\n",
    "  y = x_fp - F(w * x_fp + I_ext, a, theta)\n",
    "\n",
    "  # Here we set tolerance as 10^{-4}\n",
    "  return np.abs(y) < mytol\n",
    "\n",
    "\n",
    "def my_fp_finder(pars, r_guess_vector, mytol=1e-4):\n",
    "  \"\"\"\n",
    "  Calculate the fixed point(s) through drE/dt=0\n",
    "\n",
    "  Args:\n",
    "    pars    : Parameter dictionary\n",
    "    r_guess_vector  : Initial values used for scipy.optimize function\n",
    "    mytol   : tolerance for checking fixed point, default as 10^{-4}\n",
    "\n",
    "  Returns:\n",
    "    x_fps   : values of fixed points\n",
    "\n",
    "  \"\"\"\n",
    "  x_fps = []\n",
    "  correct_fps = []\n",
    "  for r_guess in r_guess_vector:\n",
    "    x_fp = my_fp_single(r_guess, **pars)\n",
    "    if check_fp_single(x_fp, **pars, mytol=mytol):\n",
    "      x_fps.append(x_fp)\n",
    "\n",
    "  return x_fps\n",
    "\n",
    "\n",
    "help(my_fp_finder)"
   ]
  },
  {
   "cell_type": "code",
   "execution_count": null,
   "metadata": {},
   "outputs": [],
   "source": [
    "# Set parameters\n",
    "r = np.linspace(0, 1, 1000)\n",
    "pars = default_pars_single(I_ext=0.5, w=5)\n",
    "\n",
    "# Compute dr/dt\n",
    "drdt = compute_drdt(r, **pars)\n",
    "\n",
    "#############################################################################\n",
    "# TODO for students:\n",
    "# Define initial values close to the intersections of drdt and y=0\n",
    "# (How many initial values? Hint: How many times do the two lines intersect?)\n",
    "# Calculate the fixed point with these initial values and plot them\n",
    "raise NotImplementedError('student_exercise: find fixed points numerically')\n",
    "#############################################################################\n",
    "\n",
    "# Initial guesses for fixed points\n",
    "r_guess_vector = [...]\n",
    "\n",
    "# Find fixed point numerically\n",
    "x_fps = my_fp_finder(pars, r_guess_vector)\n",
    "\n",
    "# Visualize\n",
    "plot_dr_r(r, drdt, x_fps)"
   ]
  },
  {
   "cell_type": "markdown",
   "metadata": {
    "colab_type": "text",
    "execution": {}
   },
   "source": [
    "[*Click for solution*](https://github.com/NeuromatchAcademy/course-content/tree/main/tutorials/W2D4_DynamicNetworks/solutions/W2D4_Tutorial1_Solution_1c599fac.py)\n",
    "\n",
    "*Example output:*\n",
    "\n",
    "<img alt='Solution hint' align='left' width=778.0 height=577.0 src=https://raw.githubusercontent.com/NeuromatchAcademy/course-content/main/tutorials/W2D4_DynamicNetworks/static/W2D4_Tutorial1_Solution_1c599fac_0.png>"
   ]
  },
  {
   "cell_type": "markdown",
   "metadata": {
    "execution": {}
   },
   "source": [
    "#### Interactive Demo 2.1: fixed points as a function of recurrent and external inputs.\n",
    "\n",
    "You can now explore how the previous plot changes when the recurrent coupling $w$ and the external input $I_{\\text{ext}}$ take different values. How does the number of fixed points change?"
   ]
  },
  {
   "cell_type": "markdown",
   "metadata": {},
   "source": [
    " Make sure you execute this cell to enable the widget!\n"
   ]
  },
  {
   "cell_type": "code",
   "execution_count": null,
   "metadata": {
    "cellView": "form",
    "tags": [
     "hide-input"
    ]
   },
   "outputs": [],
   "source": [
    "# @markdown Make sure you execute this cell to enable the widget!\n",
    "\n",
    "@widgets.interact(\n",
    "    w=widgets.FloatSlider(4., min=1., max=7., step=0.2),\n",
    "    I_ext=widgets.FloatSlider(1.5, min=0., max=3., step=0.1)\n",
    ")\n",
    "\n",
    "\n",
    "def plot_intersection_single(w, I_ext):\n",
    "  # set your parameters\n",
    "  pars = default_pars_single(w=w, I_ext=I_ext)\n",
    "\n",
    "  # find fixed points\n",
    "  r_init_vector = [0, .4, .9]\n",
    "  x_fps = my_fp_finder(pars, r_init_vector)\n",
    "\n",
    "  # plot\n",
    "  r = np.linspace(0, 1., 1000)\n",
    "  drdt = (-r + F(w * r + I_ext, pars['a'], pars['theta'])) / pars['tau']\n",
    "\n",
    "  plot_dr_r(r, drdt, x_fps)"
   ]
  },
  {
   "cell_type": "markdown",
   "metadata": {
    "colab_type": "text",
    "execution": {}
   },
   "source": [
    "[*Click for solution*](https://github.com/NeuromatchAcademy/course-content/tree/main/tutorials/W2D4_DynamicNetworks/solutions/W2D4_Tutorial1_Solution_7b60d4a8.py)"
   ]
  },
  {
   "cell_type": "markdown",
   "metadata": {
    "execution": {}
   },
   "source": [
    "### Section 2.2: Relationship between trajectories & fixed points\n",
    "\n",
    "Let's examine the relationship between the population activity over time and the fixed points.\n",
    "\n",
    "Here, let us first set $w=5.0$ and $I_{\\text{ext}}=0.5$, and investigate the dynamics of $r(t)$ starting with different initial values $r(0) \\equiv r_{\\text{init}}$."
   ]
  },
  {
   "cell_type": "markdown",
   "metadata": {},
   "source": [
    " Execute to visualize dr/dt"
   ]
  },
  {
   "cell_type": "code",
   "execution_count": null,
   "metadata": {
    "cellView": "form",
    "tags": [
     "hide-input"
    ]
   },
   "outputs": [],
   "source": [
    "# @markdown Execute to visualize dr/dt\n",
    "\n",
    "def plot_intersection_single(w, I_ext):\n",
    "  # set your parameters\n",
    "  pars = default_pars_single(w=w, I_ext=I_ext)\n",
    "\n",
    "  # find fixed points\n",
    "  r_init_vector = [0, .4, .9]\n",
    "  x_fps = my_fp_finder(pars, r_init_vector)\n",
    "\n",
    "  # plot\n",
    "  r = np.linspace(0, 1., 1000)\n",
    "  drdt = (-r + F(w * r + I_ext, pars['a'], pars['theta'])) / pars['tau']\n",
    "\n",
    "  plot_dr_r(r, drdt, x_fps)\n",
    "\n",
    "\n",
    "plot_intersection_single(w = 5.0, I_ext = 0.5)"
   ]
  },
  {
   "cell_type": "markdown",
   "metadata": {
    "execution": {}
   },
   "source": [
    "#### Interactive Demo 2.2: dynamics as a function of the initial value\n",
    "\n",
    "Let's now set $r_{\\rm init}$ to a value of your choice in this demo. How does the solution change? What do you observe? How does that relate to the previous plot of $\\frac{dr}{dt}$?"
   ]
  },
  {
   "cell_type": "markdown",
   "metadata": {},
   "source": [
    " Make sure you execute this cell to enable the widget!\n"
   ]
  },
  {
   "cell_type": "code",
   "execution_count": null,
   "metadata": {
    "cellView": "form",
    "tags": [
     "hide-input"
    ]
   },
   "outputs": [],
   "source": [
    "# @markdown Make sure you execute this cell to enable the widget!\n",
    "pars = default_pars_single(w=5.0, I_ext=0.5)\n",
    "\n",
    "@widgets.interact(\n",
    "    r_init=widgets.FloatSlider(0.5, min=0., max=1., step=.02)\n",
    ")\n",
    "\n",
    "def plot_single_diffEinit(r_init):\n",
    "  pars['r_init'] = r_init\n",
    "  r = simulate_single(pars)\n",
    "\n",
    "  plt.figure()\n",
    "  plt.plot(pars['range_t'], r, 'b', zorder=1)\n",
    "  plt.plot(0, r[0], 'bo', alpha=0.7, zorder=2)\n",
    "  plt.xlabel('t (ms)', fontsize=16)\n",
    "  plt.ylabel(r'$r(t)$', fontsize=16)\n",
    "  plt.ylim(0, 1.0)\n",
    "  plt.show()"
   ]
  },
  {
   "cell_type": "markdown",
   "metadata": {
    "colab_type": "text",
    "execution": {}
   },
   "source": [
    "[*Click for solution*](https://github.com/NeuromatchAcademy/course-content/tree/main/tutorials/W2D4_DynamicNetworks/solutions/W2D4_Tutorial1_Solution_c73e9caf.py)\n",
    "\n"
   ]
  },
  {
   "cell_type": "markdown",
   "metadata": {
    "execution": {}
   },
   "source": [
    "We will plot the trajectories of $r(t)$ with $r_{\\text{init}} = 0.0, 0.1, 0.2,..., 0.9$."
   ]
  },
  {
   "cell_type": "markdown",
   "metadata": {},
   "source": [
    " Execute this cell to see the trajectories!\n"
   ]
  },
  {
   "cell_type": "code",
   "execution_count": null,
   "metadata": {
    "cellView": "form",
    "tags": [
     "hide-input"
    ]
   },
   "outputs": [],
   "source": [
    "# @markdown Execute this cell to see the trajectories!\n",
    "\n",
    "pars = default_pars_single()\n",
    "pars['w'] = 5.0\n",
    "pars['I_ext'] = 0.5\n",
    "\n",
    "plt.figure(figsize=(8, 5))\n",
    "for ie in range(10):\n",
    "  pars['r_init'] = 0.1 * ie  # set the initial value\n",
    "  r = simulate_single(pars)  # run the simulation\n",
    "\n",
    "  # plot the activity with given initial\n",
    "  plt.plot(pars['range_t'], r, 'b', alpha=0.1 + 0.1 * ie,\n",
    "           label=r'r$_{\\mathrm{init}}$=%.1f' % (0.1 * ie))\n",
    "\n",
    "plt.xlabel('t (ms)')\n",
    "plt.title('Two steady states?')\n",
    "plt.ylabel(r'$r$(t)')\n",
    "plt.legend(loc=[1.01, -0.06], fontsize=14)\n",
    "plt.show()"
   ]
  },
  {
   "cell_type": "markdown",
   "metadata": {
    "execution": {}
   },
   "source": [
    "We have three fixed points but only two steady states showing up - what's happening?\n",
    "\n",
    "It turns out that the stability of the fixed points matters. If a fixed point is stable, a trajectory starting near that fixed point will stay close to that fixed point and converge to it (the steady state will equal the fixed point). If a fixed point is unstable, any trajectories starting close to it will diverge and go towards stable fixed points. In fact, the only way for a trajectory to reach a stable state at an unstable fixed point is if the initial value **exactly** equals the value of the fixed point."
   ]
  },
  {
   "cell_type": "markdown",
   "metadata": {
    "execution": {}
   },
   "source": [
    "#### Think! 2.2: Stable vs unstable fixed points\n",
    "\n",
    "Which of the fixed points for the model we've been examining in this section are stable vs unstable?"
   ]
  },
  {
   "cell_type": "markdown",
   "metadata": {},
   "source": [
    " Execute to print fixed point values\n"
   ]
  },
  {
   "cell_type": "code",
   "execution_count": null,
   "metadata": {
    "cellView": "form",
    "tags": [
     "hide-input"
    ]
   },
   "outputs": [],
   "source": [
    "# @markdown Execute to print fixed point values\n",
    "\n",
    "# Initial guesses for fixed points\n",
    "r_guess_vector = [0, .4, .9]\n",
    "\n",
    "# Find fixed point numerically\n",
    "x_fps = my_fp_finder(pars, r_guess_vector)\n",
    "\n",
    "print(f'Our fixed points are {x_fps}')"
   ]
  },
  {
   "cell_type": "markdown",
   "metadata": {
    "colab_type": "text",
    "execution": {}
   },
   "source": [
    "[*Click for solution*](https://github.com/NeuromatchAcademy/course-content/tree/main/tutorials/W2D4_DynamicNetworks/solutions/W2D4_Tutorial1_Solution_00b3230f.py)"
   ]
  },
  {
   "cell_type": "markdown",
   "metadata": {
    "execution": {}
   },
   "source": [
    "We can simulate the trajectory if we start at the unstable fixed point: you can see that it remains at that fixed point (the red line below)."
   ]
  },
  {
   "cell_type": "markdown",
   "metadata": {},
   "source": [
    " Execute to visualize trajectory starting at unstable fixed point\n"
   ]
  },
  {
   "cell_type": "code",
   "execution_count": null,
   "metadata": {
    "cellView": "form",
    "tags": [
     "hide-input"
    ]
   },
   "outputs": [],
   "source": [
    "# @markdown Execute to visualize trajectory starting at unstable fixed point\n",
    "pars = default_pars_single()\n",
    "pars['w'] = 5.0\n",
    "pars['I_ext'] = 0.5\n",
    "\n",
    "plt.figure(figsize=(8, 5))\n",
    "for ie in range(10):\n",
    "  pars['r_init'] = 0.1 * ie  # set the initial value\n",
    "  r = simulate_single(pars)  # run the simulation\n",
    "\n",
    "  # plot the activity with given initial\n",
    "  plt.plot(pars['range_t'], r, 'b', alpha=0.1 + 0.1 * ie,\n",
    "           label=r'r$_{\\mathrm{init}}$=%.1f' % (0.1 * ie))\n",
    "\n",
    "pars['r_init'] = x_fps[1]  # set the initial value\n",
    "r = simulate_single(pars)  # run the simulation\n",
    "\n",
    "# plot the activity with given initial\n",
    "plt.plot(pars['range_t'], r, 'r', alpha=0.1 + 0.1 * ie,\n",
    "          label=r'r$_{\\mathrm{init}}$=%.4f' % (x_fps[1]))\n",
    "\n",
    "plt.xlabel('t (ms)')\n",
    "plt.title('Two steady states?')\n",
    "plt.ylabel(r'$r$(t)')\n",
    "plt.legend(loc=[1.01, -0.06], fontsize=14)\n",
    "plt.show()"
   ]
  },
  {
   "cell_type": "markdown",
   "metadata": {
    "execution": {}
   },
   "source": [
    "#### Think! 2.3: Inhibitory populations\n",
    "\n",
    "Throughout the tutorial, we have assumed $w> 0 $, i.e., we considered a single population of **excitatory** neurons. What do you think will be the behavior of a population of inhibitory neurons, i.e., where $w> 0$ is replaced by $w< 0$?"
   ]
  },
  {
   "cell_type": "markdown",
   "metadata": {
    "colab_type": "text",
    "execution": {}
   },
   "source": [
    "[*Click for solution*](https://github.com/NeuromatchAcademy/course-content/tree/main/tutorials/W2D4_DynamicNetworks/solutions/W2D4_Tutorial1_Solution_acd45f01.py)"
   ]
  },
  {
   "cell_type": "markdown",
   "metadata": {
    "execution": {}
   },
   "source": [
    "## Section 3: Stability analysis via linearization of the dynamics"
   ]
  },
  {
   "cell_type": "markdown",
   "metadata": {
    "execution": {}
   },
   "source": [
    "Here we will dive into the math of how to figure out the stability of a fixed point.\n",
    "\n",
    "\n",
    "Just like in our equation for the feedforward network, a generic linear system\n",
    "$\\frac{\\mathrm{d}x}{\\mathrm{d}t} = \\lambda (x - b)$, has a fixed point for $x=b$. The analytical solution of such a system can be found to be:\n",
    "\n",
    "\\begin{equation}\n",
    "x(t) = b + \\big{(} x(0) - b \\big{)} \\text{e}^{\\lambda t}.\n",
    "\\end{equation}\n",
    "\n",
    "Now consider a small perturbation of the activity around the fixed point: $x(0) = b + \\epsilon$, where $|\\epsilon| \\ll 1$. Will the perturbation $\\epsilon(t)$ grow with time or will it decay to the fixed point? The evolution of the perturbation with time can be written, using the analytical solution for $x(t)$, as:\n",
    "\n",
    "\\begin{equation}\n",
    "\\epsilon (t) = x(t) - b = \\epsilon \\text{e}^{\\lambda t}\n",
    "\\end{equation}\n",
    "\n",
    "<br>\n",
    "\n",
    "- if $\\lambda < 0$, $\\epsilon(t)$ decays to zero, $x(t)$ will still converge to $b$ and the fixed point is \"**stable**\".\n",
    "\n",
    "- if $\\lambda > 0$, $\\epsilon(t)$ grows with time, $x(t)$ will leave the fixed point $b$ exponentially, and the fixed point is, therefore, \"**unstable**\"."
   ]
  },
  {
   "cell_type": "markdown",
   "metadata": {
    "execution": {}
   },
   "source": [
    "Similar to what we did in the linear system above, in order to determine the stability of a fixed point $r^{*}$ of the excitatory population dynamics, we perturb Equation (1) around $r^{*}$ by $\\epsilon$, i.e. $r = r^{*} + \\epsilon$. We can plug in Equation (1) and obtain the equation determining the time evolution of the perturbation $\\epsilon(t)$:\n",
    "\n",
    "\\begin{equation}\n",
    "\\tau \\frac{\\mathrm{d}\\epsilon}{\\mathrm{d}t} \\approx -\\epsilon + w F'(w\\cdot r^{*} + I_{\\text{ext}};a,\\theta) \\epsilon\n",
    "\\end{equation}\n",
    "\n",
    "where $F'(\\cdot)$ is the derivative of the transfer function $F(\\cdot)$. We can rewrite the above equation as:\n",
    "\n",
    "\\begin{equation}\n",
    "\\frac{\\mathrm{d}\\epsilon}{\\mathrm{d}t} \\approx \\frac{\\epsilon}{\\tau }[-1 + w F'(w\\cdot r^* + I_{\\text{ext}};a,\\theta)]\n",
    "\\end{equation}\n",
    "\n",
    "That is, as in the linear system above, the value of\n",
    "\n",
    "\\begin{equation}\n",
    "\\lambda = [-1+ wF'(w\\cdot r^* + I_{\\text{ext}};a,\\theta)]/\\tau \\qquad (4)\n",
    "\\end{equation}\n",
    "\n",
    "determines whether the perturbation will grow or decay to zero, i.e., $\\lambda$ defines the stability of the fixed point. This value is called the **eigenvalue** of the dynamical system."
   ]
  },
  {
   "cell_type": "markdown",
   "metadata": {
    "execution": {}
   },
   "source": [
    "The derivative of the sigmoid transfer function is:\n",
    "\n",
    "\\begin{align}\n",
    "\\frac{\\mathrm{d}F}{\\mathrm{d}x} & = \\frac{\\mathrm{d}}{\\mathrm{d}x} (1+\\exp\\{-a(x-\\theta)\\})^{-1}  \\\\\n",
    "& = a\\exp\\{-a(x-\\theta)\\} (1+\\exp\\{-a(x-\\theta)\\})^{-2}. \\qquad (5)\n",
    "\\end{align}\n",
    "\n",
    "We provide a helper function `dF` which computes this derivative."
   ]
  },
  {
   "cell_type": "markdown",
   "metadata": {},
   "source": [
    " Execute this cell to enable helper function `dF` and visualize derivative\n"
   ]
  },
  {
   "cell_type": "code",
   "execution_count": null,
   "metadata": {
    "cellView": "form",
    "tags": [
     "hide-input"
    ]
   },
   "outputs": [],
   "source": [
    "# @markdown Execute this cell to enable helper function `dF` and visualize derivative\n",
    "\n",
    "def dF(x, a, theta):\n",
    "  \"\"\"\n",
    "  Population activation function.\n",
    "\n",
    "  Args:\n",
    "    x     : the population input\n",
    "    a     : the gain of the function\n",
    "    theta : the threshold of the function\n",
    "\n",
    "  Returns:\n",
    "    dFdx  : the population activation response F(x) for input x\n",
    "  \"\"\"\n",
    "\n",
    "  # Calculate the population activation\n",
    "  dFdx = a * np.exp(-a * (x - theta)) * (1 + np.exp(-a * (x - theta)))**-2\n",
    "\n",
    "  return dFdx\n",
    "\n",
    "# Set parameters\n",
    "pars = default_pars_single()  # get default parameters\n",
    "x = np.arange(0, 10, .1)      # set the range of input\n",
    "\n",
    "# Compute derivative of transfer function\n",
    "df = dF(x, pars['a'], pars['theta'])\n",
    "\n",
    "# Visualize\n",
    "plot_dFdt(x, df)"
   ]
  },
  {
   "cell_type": "markdown",
   "metadata": {
    "execution": {}
   },
   "source": [
    "#### Coding Exercise 3.1: Compute eigenvalues\n",
    "\n",
    "As discussed above, for the case with $w=5.0$ and $I_{\\text{ext}}=0.5$, the system displays **three** fixed points. However, when we simulated the dynamics and varied the initial conditions $r_{\\rm init}$, we could only obtain **two** steady states. In this exercise, we will now check the stability of each of the three fixed points by calculating the corresponding eigenvalues with the function `eig_single`. Check the sign of each eigenvalue (i.e., stability of each fixed point). How many of the fixed points are stable?\n",
    "\n",
    "Note that the expression of the eigenvalue at fixed point $r^*$:\n",
    "\n",
    "\\begin{equation}\n",
    "\\lambda = [-1+ wF'(w\\cdot r^* + I_{\\text{ext}};a,\\theta)]/\\tau\n",
    "\\end{equation}"
   ]
  },
  {
   "cell_type": "code",
   "execution_count": null,
   "metadata": {},
   "outputs": [],
   "source": [
    "def eig_single(fp, tau, a, theta, w, I_ext, **other_pars):\n",
    "  \"\"\"\n",
    "  Args:\n",
    "    fp   : fixed point r_fp\n",
    "    tau, a, theta, w, I_ext : Simulation parameters\n",
    "\n",
    "  Returns:\n",
    "    eig : eigenvalue of the linearized system\n",
    "  \"\"\"\n",
    "  #####################################################################\n",
    "  ## TODO for students: compute eigenvalue and disable the error\n",
    "  raise NotImplementedError(\"Student exercise: compute the eigenvalue\")\n",
    "  ######################################################################\n",
    "  # Compute the eigenvalue\n",
    "  eig = ...\n",
    "\n",
    "  return eig\n",
    "\n",
    "\n",
    "# Find the eigenvalues for all fixed points\n",
    "pars = default_pars_single(w=5, I_ext=.5)\n",
    "r_guess_vector = [0, .4, .9]\n",
    "x_fp = my_fp_finder(pars, r_guess_vector)\n",
    "\n",
    "\n",
    "for fp in x_fp:\n",
    "  eig_fp = eig_single(fp, **pars)\n",
    "  print(f'Fixed point1 at {fp:.3f} with Eigenvalue={eig_fp:.3f}')"
   ]
  },
  {
   "cell_type": "markdown",
   "metadata": {
    "execution": {}
   },
   "source": [
    "**SAMPLE OUTPUT**\n",
    "\n",
    "```\n",
    "Fixed point1 at 0.042 with Eigenvalue=-0.583\n",
    "Fixed point2 at 0.447 with Eigenvalue=0.498\n",
    "Fixed point3 at 0.900 with Eigenvalue=-0.626\n",
    "```"
   ]
  },
  {
   "cell_type": "markdown",
   "metadata": {
    "colab_type": "text",
    "execution": {}
   },
   "source": [
    "[*Click for solution*](https://github.com/NeuromatchAcademy/course-content/tree/main/tutorials/W2D4_DynamicNetworks/solutions/W2D4_Tutorial1_Solution_12b2b44c.py)"
   ]
  },
  {
   "cell_type": "markdown",
   "metadata": {
    "execution": {}
   },
   "source": [
    "We can see that the first and third fixed points are stable (negative eigenvalues) and the second is unstable (positive eigenvalue) - as we expected!"
   ]
  },
  {
   "cell_type": "markdown",
   "metadata": {
    "execution": {}
   },
   "source": [
    "## Section 4: Noisy input drives the transition between two stable states"
   ]
  },
  {
   "cell_type": "markdown",
   "metadata": {
    "execution": {}
   },
   "source": [
    "The Ornstein-Uhlenbeck (OU) process is usually used to generate a noisy input into the neuron. The OU input $\\eta(t)$ follows:\n",
    "\n",
    "\\begin{equation}\n",
    "\\tau_\\eta \\frac{d}{dt}\\eta(t) = -\\eta (t) + \\sigma_\\eta\\sqrt{2\\tau_\\eta}\\xi(t)\n",
    "\\end{equation}\n",
    "\n",
    "Execute the following function `my_OU(pars, sig, myseed=False)` to generate an OU process."
   ]
  },
  {
   "cell_type": "markdown",
   "metadata": {},
   "source": [
    " Execute to get helper function `my_OU` and visualize OU process\n"
   ]
  },
  {
   "cell_type": "code",
   "execution_count": null,
   "metadata": {
    "cellView": "form",
    "tags": [
     "hide-input"
    ]
   },
   "outputs": [],
   "source": [
    "# @markdown Execute to get helper function `my_OU` and visualize OU process\n",
    "\n",
    "\n",
    "def my_OU(pars, sig, myseed=False):\n",
    "  \"\"\"\n",
    "  A functions that generates Ornstein-Uhlenback process\n",
    "\n",
    "  Args:\n",
    "    pars       : parameter dictionary\n",
    "    sig        : noise amplitute\n",
    "    myseed     : random seed. int or boolean\n",
    "\n",
    "  Returns:\n",
    "    I          : Ornstein-Uhlenbeck input current\n",
    "  \"\"\"\n",
    "\n",
    "  # Retrieve simulation parameters\n",
    "  dt, range_t = pars['dt'], pars['range_t']\n",
    "  Lt = range_t.size\n",
    "  tau_ou = pars['tau_ou']  # [ms]\n",
    "\n",
    "  # set random seed\n",
    "  if myseed:\n",
    "      np.random.seed(seed=myseed)\n",
    "  else:\n",
    "      np.random.seed()\n",
    "\n",
    "  # Initialize\n",
    "  noise = np.random.randn(Lt)\n",
    "  I_ou = np.zeros(Lt)\n",
    "  I_ou[0] = noise[0] * sig\n",
    "\n",
    "  # generate OU\n",
    "  for it in range(Lt - 1):\n",
    "    I_ou[it + 1] = (I_ou[it]\n",
    "                    + dt / tau_ou * (0. - I_ou[it])\n",
    "                    + np.sqrt(2 * dt / tau_ou) * sig * noise[it + 1])\n",
    "\n",
    "  return I_ou\n",
    "\n",
    "\n",
    "pars = default_pars_single(T=100)\n",
    "pars['tau_ou'] = 1.  # [ms]\n",
    "sig_ou = 0.1\n",
    "I_ou = my_OU(pars, sig=sig_ou, myseed=2020)\n",
    "plt.figure(figsize=(10, 4))\n",
    "plt.plot(pars['range_t'], I_ou, 'r')\n",
    "plt.xlabel('t (ms)')\n",
    "plt.ylabel(r'$I_{\\mathrm{OU}}$')\n",
    "plt.show()"
   ]
  },
  {
   "cell_type": "markdown",
   "metadata": {
    "execution": {}
   },
   "source": [
    "In the presence of two or more fixed points, noisy inputs can drive a transition between the fixed points! Here, we stimulate an E population for 1,000 ms applying OU inputs."
   ]
  },
  {
   "cell_type": "markdown",
   "metadata": {},
   "source": [
    " Execute this cell to simulate E population with OU inputs\n"
   ]
  },
  {
   "cell_type": "code",
   "execution_count": null,
   "metadata": {
    "cellView": "form",
    "tags": [
     "hide-input"
    ]
   },
   "outputs": [],
   "source": [
    "# @markdown Execute this cell to simulate E population with OU inputs\n",
    "\n",
    "pars = default_pars_single(T=1000)\n",
    "pars['w'] = 5.0\n",
    "sig_ou = 0.7\n",
    "pars['tau_ou'] = 1.  # [ms]\n",
    "pars['I_ext'] = 0.56 + my_OU(pars, sig=sig_ou, myseed=2020)\n",
    "\n",
    "r = simulate_single(pars)\n",
    "\n",
    "plt.figure(figsize=(10, 4))\n",
    "plt.plot(pars['range_t'], r, 'b', alpha=0.8)\n",
    "plt.xlabel('t (ms)')\n",
    "plt.ylabel(r'$r(t)$')\n",
    "plt.show()"
   ]
  },
  {
   "cell_type": "markdown",
   "metadata": {
    "execution": {}
   },
   "source": [
    "You can see that the population activity is changing between fixed points (it goes up and down)!"
   ]
  },
  {
   "cell_type": "markdown",
   "metadata": {
    "execution": {}
   },
   "source": [
    "---\n",
    "## Summary (Part 1)\n",
    "\n",
    "In this part of the tutorial, we have investigated the dynamics of a rate-based single population of neurons.\n",
    "\n",
    "We learned about:\n",
    "- The effect of the input parameters and the time constant of the network on the dynamics of the population.\n",
    "- How to find the fixed point(s) of the system.\n",
    "- How to determine the stability of a fixed point by linearizing the system.\n",
    "- How to add realistic inputs to our model."
   ]
  },
  {
   "cell_type": "markdown",
   "metadata": {
    "execution": {}
   },
   "source": [
    "---\n",
    "---\n",
    "\n",
    "# Part 2: Wilson-Cowan Model"
   ]
  },
  {
   "cell_type": "markdown",
   "metadata": {
    "execution": {}
   },
   "source": [
    "In the previous part, you became familiar with a neuronal network consisting of only an excitatory population. Here, we extend the approach we used to include both excitatory and inhibitory neuronal populations in our network. A simple, yet powerful model to study the dynamics of two interacting populations of excitatory and inhibitory neurons, is the so-called **Wilson-Cowan** rate model, which will be the subject of this part of the tutorial.\n",
    "\n",
    "The objectives of this part of the tutorial are to:\n",
    "\n",
    "- Write the **Wilson-Cowan** equations for the firing rate dynamics of a 2D system composed of an excitatory (E) and an inhibitory (I) population of neurons\n",
    "- Simulate the dynamics of the system, i.e., Wilson-Cowan model.\n",
    "- Plot the frequency-current (F-I) curves for both populations (i.e., E and I).\n",
    "- Visualize and inspect the behavior of the system using **phase plane analysis**, **vector fields**, and **nullclines**.\n",
    "\n",
    "<br>\n",
    "\n",
    "Reference paper:\n",
    "\n",
    "Wilson, H., and Cowan, J. (1972). Excitatory and inhibitory interactions in localized populations of model neurons. _Biophysical Journal_ **12**. doi: [10.1016/S0006-3495(72)86068-5](https://doi.org/10.1016/S0006-3495(72)86068-5)."
   ]
  },
  {
   "cell_type": "markdown",
   "metadata": {},
   "source": [
    "##  Plotting Functions"
   ]
  },
  {
   "cell_type": "code",
   "execution_count": null,
   "metadata": {
    "cellView": "form",
    "tags": [
     "hide-input"
    ]
   },
   "outputs": [],
   "source": [
    "# @title Plotting Functions\n",
    "\n",
    "def plot_FI_inverse(x, a, theta):\n",
    "  f, ax = plt.subplots()\n",
    "  ax.plot(x, F_inv(x, a=a, theta=theta))\n",
    "  ax.set(xlabel=\"$x$\", ylabel=\"$F^{-1}(x)$\")\n",
    "\n",
    "\n",
    "def plot_FI_EI(x, FI_exc, FI_inh):\n",
    "  plt.figure()\n",
    "  plt.plot(x, FI_exc, 'b', label='E population')\n",
    "  plt.plot(x, FI_inh, 'r', label='I population')\n",
    "  plt.legend(loc='lower right')\n",
    "  plt.xlabel('x (a.u.)')\n",
    "  plt.ylabel('F(x)')\n",
    "  plt.show()\n",
    "\n",
    "\n",
    "def my_test_plot(t, rE1, rI1, rE2, rI2):\n",
    "\n",
    "  plt.figure()\n",
    "  ax1 = plt.subplot(211)\n",
    "  ax1.plot(pars['range_t'], rE1, 'b', label='E population')\n",
    "  ax1.plot(pars['range_t'], rI1, 'r', label='I population')\n",
    "  ax1.set_ylabel('Activity')\n",
    "  ax1.legend(loc='best')\n",
    "\n",
    "  ax2 = plt.subplot(212, sharex=ax1, sharey=ax1)\n",
    "  ax2.plot(pars['range_t'], rE2, 'b', label='E population')\n",
    "  ax2.plot(pars['range_t'], rI2, 'r', label='I population')\n",
    "  ax2.set_xlabel('t (ms)')\n",
    "  ax2.set_ylabel('Activity')\n",
    "  ax2.legend(loc='best')\n",
    "\n",
    "  plt.tight_layout()\n",
    "  plt.show()\n",
    "\n",
    "\n",
    "def plot_nullclines(Exc_null_rE, Exc_null_rI, Inh_null_rE, Inh_null_rI):\n",
    "\n",
    "  plt.figure()\n",
    "  plt.plot(Exc_null_rE, Exc_null_rI, 'b', label='E nullcline')\n",
    "  plt.plot(Inh_null_rE, Inh_null_rI, 'r', label='I nullcline')\n",
    "  plt.xlabel(r'$r_E$')\n",
    "  plt.ylabel(r'$r_I$')\n",
    "  plt.legend(loc='best')\n",
    "  plt.show()\n",
    "\n",
    "\n",
    "def my_plot_nullcline(pars):\n",
    "  Exc_null_rE = np.linspace(-0.01, 0.96, 100)\n",
    "  Exc_null_rI = get_E_nullcline(Exc_null_rE, **pars)\n",
    "  Inh_null_rI = np.linspace(-.01, 0.8, 100)\n",
    "  Inh_null_rE = get_I_nullcline(Inh_null_rI, **pars)\n",
    "\n",
    "  plt.plot(Exc_null_rE, Exc_null_rI, 'b', label='E nullcline')\n",
    "  plt.plot(Inh_null_rE, Inh_null_rI, 'r', label='I nullcline')\n",
    "  plt.xlabel(r'$r_E$')\n",
    "  plt.ylabel(r'$r_I$')\n",
    "  plt.legend(loc='best')\n",
    "\n",
    "\n",
    "def my_plot_vector(pars, my_n_skip=2, myscale=5):\n",
    "  EI_grid = np.linspace(0., 1., 20)\n",
    "  rE, rI = np.meshgrid(EI_grid, EI_grid)\n",
    "  drEdt, drIdt = EIderivs(rE, rI, **pars)\n",
    "\n",
    "  n_skip = my_n_skip\n",
    "\n",
    "  plt.quiver(rE[::n_skip, ::n_skip], rI[::n_skip, ::n_skip],\n",
    "             drEdt[::n_skip, ::n_skip], drIdt[::n_skip, ::n_skip],\n",
    "             angles='xy', scale_units='xy', scale=myscale, facecolor='c')\n",
    "\n",
    "  plt.xlabel(r'$r_E$')\n",
    "  plt.ylabel(r'$r_I$')\n",
    "\n",
    "\n",
    "def my_plot_trajectory(pars, mycolor, x_init, mylabel):\n",
    "  pars = pars.copy()\n",
    "  pars['rE_init'], pars['rI_init'] = x_init[0], x_init[1]\n",
    "  rE_tj, rI_tj = simulate_wc(**pars)\n",
    "\n",
    "  plt.plot(rE_tj, rI_tj, color=mycolor, label=mylabel)\n",
    "  plt.plot(x_init[0], x_init[1], 'o', color=mycolor, ms=8)\n",
    "  plt.xlabel(r'$r_E$')\n",
    "  plt.ylabel(r'$r_I$')\n",
    "\n",
    "\n",
    "def my_plot_trajectories(pars, dx, n, mylabel):\n",
    "  \"\"\"\n",
    "  Solve for I along the E_grid from dE/dt = 0.\n",
    "\n",
    "  Expects:\n",
    "  pars    : Parameter dictionary\n",
    "  dx      : increment of initial values\n",
    "  n       : n*n trjectories\n",
    "  mylabel : label for legend\n",
    "\n",
    "  Returns:\n",
    "    figure of trajectory\n",
    "  \"\"\"\n",
    "  pars = pars.copy()\n",
    "  for ie in range(n):\n",
    "    for ii in range(n):\n",
    "      pars['rE_init'], pars['rI_init'] = dx * ie, dx * ii\n",
    "      rE_tj, rI_tj = simulate_wc(**pars)\n",
    "      if (ie == n-1) & (ii == n-1):\n",
    "          plt.plot(rE_tj, rI_tj, 'gray', alpha=0.8, label=mylabel)\n",
    "      else:\n",
    "          plt.plot(rE_tj, rI_tj, 'gray', alpha=0.8)\n",
    "\n",
    "  plt.xlabel(r'$r_E$')\n",
    "  plt.ylabel(r'$r_I$')\n",
    "\n",
    "\n",
    "def plot_complete_analysis(pars):\n",
    "  plt.figure(figsize=(7.7, 6.))\n",
    "\n",
    "  # plot example trajectories\n",
    "  my_plot_trajectories(pars, 0.2, 6,\n",
    "                       'Sample trajectories \\nfor different init. conditions')\n",
    "  my_plot_trajectory(pars, 'orange', [0.6, 0.8],\n",
    "                     'Sample trajectory for \\nlow activity')\n",
    "  my_plot_trajectory(pars, 'm', [0.6, 0.6],\n",
    "                     'Sample trajectory for \\nhigh activity')\n",
    "\n",
    "  # plot nullclines\n",
    "  my_plot_nullcline(pars)\n",
    "\n",
    "  # plot vector field\n",
    "  EI_grid = np.linspace(0., 1., 20)\n",
    "  rE, rI = np.meshgrid(EI_grid, EI_grid)\n",
    "  drEdt, drIdt = EIderivs(rE, rI, **pars)\n",
    "  n_skip = 2\n",
    "  plt.quiver(rE[::n_skip, ::n_skip], rI[::n_skip, ::n_skip],\n",
    "             drEdt[::n_skip, ::n_skip], drIdt[::n_skip, ::n_skip],\n",
    "             angles='xy', scale_units='xy', scale=5., facecolor='c')\n",
    "\n",
    "  plt.legend(loc=[1.02, 0.57], handlelength=1)\n",
    "  plt.show()\n",
    "\n",
    "\n",
    "def plot_fp(x_fp, position=(0.02, 0.1), rotation=0):\n",
    "  plt.plot(x_fp[0], x_fp[1], 'ko', ms=8)\n",
    "  plt.text(x_fp[0] + position[0], x_fp[1] + position[1],\n",
    "           f'Fixed Point1=\\n({x_fp[0]:.3f}, {x_fp[1]:.3f})',\n",
    "           horizontalalignment='center', verticalalignment='bottom',\n",
    "           rotation=rotation)"
   ]
  },
  {
   "cell_type": "markdown",
   "metadata": {},
   "source": [
    "##  Helper Functions\n"
   ]
  },
  {
   "cell_type": "code",
   "execution_count": null,
   "metadata": {
    "cellView": "form",
    "tags": [
     "hide-input"
    ]
   },
   "outputs": [],
   "source": [
    "# @title Helper Functions\n",
    "\n",
    "def default_pars(**kwargs):\n",
    "  pars = {}\n",
    "\n",
    "  # Excitatory parameters\n",
    "  pars['tau_E'] = 1.     # Timescale of the E population [ms]\n",
    "  pars['a_E'] = 1.2      # Gain of the E population\n",
    "  pars['theta_E'] = 2.8  # Threshold of the E population\n",
    "\n",
    "  # Inhibitory parameters\n",
    "  pars['tau_I'] = 2.0    # Timescale of the I population [ms]\n",
    "  pars['a_I'] = 1.0      # Gain of the I population\n",
    "  pars['theta_I'] = 4.0  # Threshold of the I population\n",
    "\n",
    "  # Connection strength\n",
    "  pars['wEE'] = 9.   # E to E\n",
    "  pars['wEI'] = 4.   # I to E\n",
    "  pars['wIE'] = 13.  # E to I\n",
    "  pars['wII'] = 11.  # I to I\n",
    "\n",
    "  # External input\n",
    "  pars['I_ext_E'] = 0.\n",
    "  pars['I_ext_I'] = 0.\n",
    "\n",
    "  # simulation parameters\n",
    "  pars['T'] = 50.        # Total duration of simulation [ms]\n",
    "  pars['dt'] = .1        # Simulation time step [ms]\n",
    "  pars['rE_init'] = 0.2  # Initial value of E\n",
    "  pars['rI_init'] = 0.2  # Initial value of I\n",
    "\n",
    "  # External parameters if any\n",
    "  for k in kwargs:\n",
    "      pars[k] = kwargs[k]\n",
    "\n",
    "  # Vector of discretized time points [ms]\n",
    "  pars['range_t'] = np.arange(0, pars['T'], pars['dt'])\n",
    "\n",
    "  return pars\n",
    "\n",
    "\n",
    "def F(x, a, theta):\n",
    "  \"\"\"\n",
    "  Population activation function, F-I curve\n",
    "\n",
    "  Args:\n",
    "    x     : the population input\n",
    "    a     : the gain of the function\n",
    "    theta : the threshold of the function\n",
    "\n",
    "  Returns:\n",
    "    f     : the population activation response f(x) for input x\n",
    "  \"\"\"\n",
    "\n",
    "  # add the expression of f = F(x)\n",
    "  f = (1 + np.exp(-a * (x - theta)))**-1 - (1 + np.exp(a * theta))**-1\n",
    "\n",
    "  return f\n",
    "\n",
    "\n",
    "def dF(x, a, theta):\n",
    "  \"\"\"\n",
    "  Derivative of the population activation function.\n",
    "\n",
    "  Args:\n",
    "    x     : the population input\n",
    "    a     : the gain of the function\n",
    "    theta : the threshold of the function\n",
    "\n",
    "  Returns:\n",
    "    dFdx  :  Derivative of the population activation function.\n",
    "  \"\"\"\n",
    "\n",
    "  dFdx = a * np.exp(-a * (x - theta)) * (1 + np.exp(-a * (x - theta)))**-2\n",
    "\n",
    "  return dFdx"
   ]
  },
  {
   "cell_type": "markdown",
   "metadata": {
    "execution": {}
   },
   "source": [
    "The helper functions included:\n",
    "\n",
    "- Parameter dictionary: `default_pars(**kwargs)`. You can use:\n",
    "  - `pars = default_pars()` to get all the parameters, and then you can execute `print(pars)` to check these parameters.\n",
    "  - `pars = default_pars(T=T_sim, dt=time_step)` to set a different simulation time and time step\n",
    "  - After `pars = default_pars()`, use `par['New_para'] = value` to add a new parameter with its value\n",
    "  - Pass to functions that accept individual parameters with `func(**pars)`\n",
    "- F-I curve: `F(x, a, theta)`\n",
    "- Derivative of the F-I curve: `dF(x, a, theta)`"
   ]
  },
  {
   "cell_type": "markdown",
   "metadata": {
    "execution": {}
   },
   "source": [
    "---\n",
    "## Section 1: Wilson-Cowan model of excitatory and inhibitory populations\n"
   ]
  },
  {
   "cell_type": "markdown",
   "metadata": {
    "execution": {}
   },
   "source": [
    "### Section 1.1: Mathematical description of the WC model\n",
    "\n",
    "Many of the rich dynamics recorded in the brain are generated by the interaction of excitatory and inhibitory subtype neurons. Here, similar to what we did in the previous part of the tutorial, we will model two coupled populations of E and I neurons (**Wilson-Cowan** model). We can write two coupled differential equations, each representing the dynamics of the excitatory or inhibitory population:\n",
    "\n",
    "\\begin{align}\n",
    "\\tau_E \\frac{\\mathrm{d}r_E}{\\mathrm{d}t} &= -r_E + F_E(w_{EE}r_E -w_{EI}r_I + I^{\\text{ext}}_E;a_E,\\theta_E)\\\\\n",
    "\\tau_I \\frac{\\mathrm{d}r_I}{\\mathrm{d}t} &= -r_I + F_I(w_{IE}r_E -w_{II}r_I + I^{\\text{ext}}_I;a_I,\\theta_I)    \\qquad (1)\n",
    "\\end{align}\n",
    "\n",
    "$r_E(t)$ represents the average activation (or firing rate) of the excitatory population at time $t$, and $r_I(t)$ the activation (or firing rate) of the inhibitory population. The parameters $\\tau_E$ and $\\tau_I$ control the timescales of the dynamics of each population. Connection strengths are given by: $w_{EE}$ (E $\\rightarrow$ E), $w_{EI}$ (I $\\rightarrow$ E), $w_{IE}$ (E $\\rightarrow$ I), and $w_{II}$ (I $\\rightarrow$ I). The terms $w_{EI}$ and $w_{IE}$ represent connections from inhibitory to excitatory population and vice versa, respectively. The transfer functions (or F-I curves) $F_E(x;a_E,\\theta_E)$ and $F_I(x;a_I,\\theta_I)$ can be different for the excitatory and the inhibitory populations.\n"
   ]
  },
  {
   "cell_type": "markdown",
   "metadata": {
    "execution": {}
   },
   "source": [
    "#### Coding Exercise 1.1: Plot out the F-I curves for the E and I populations\n",
    "\n",
    "Let's first plot out the F-I curves for the E and I populations using the helper function `F` with default parameter values."
   ]
  },
  {
   "cell_type": "code",
   "execution_count": null,
   "metadata": {},
   "outputs": [],
   "source": [
    "help(F)"
   ]
  },
  {
   "cell_type": "code",
   "execution_count": null,
   "metadata": {},
   "outputs": [],
   "source": [
    "pars = default_pars()\n",
    "x = np.arange(0, 10, .1)\n",
    "\n",
    "print(pars['a_E'], pars['theta_E'])\n",
    "print(pars['a_I'], pars['theta_I'])\n",
    "\n",
    "###################################################################\n",
    "# TODO for students: compute and plot the F-I curve here          #\n",
    "# Note: aE, thetaE, aI and theta_I are in the dictionary 'pairs'   #\n",
    "raise NotImplementedError('student exercise: compute F-I curves of excitatory and inhibitory populations')\n",
    "###################################################################\n",
    "\n",
    "# Compute the F-I curve of the excitatory population\n",
    "FI_exc = ...\n",
    "\n",
    "# Compute the F-I curve of the inhibitory population\n",
    "FI_inh = ...\n",
    "\n",
    "# Visualize\n",
    "plot_FI_EI(x, FI_exc, FI_inh)"
   ]
  },
  {
   "cell_type": "markdown",
   "metadata": {
    "colab_type": "text",
    "execution": {}
   },
   "source": [
    "[*Click for solution*](https://github.com/NeuromatchAcademy/course-content/tree/main/tutorials/W2D4_DynamicNetworks/solutions/W2D4_Tutorial2_Solution_043dd600.py)\n",
    "\n",
    "*Example output:*\n",
    "\n",
    "<img alt='Solution hint' align='left' width=777.0 height=577.0 src=https://raw.githubusercontent.com/NeuromatchAcademy/course-content/main/tutorials/W2D4_DynamicNetworks/static/W2D4_Tutorial2_Solution_043dd600_1.png>\n",
    "\n"
   ]
  },
  {
   "cell_type": "markdown",
   "metadata": {
    "execution": {}
   },
   "source": [
    "### Section 1.2: Simulation scheme for the Wilson-Cowan model\n",
    "\n",
    "Once again, we can integrate our equations numerically. Using the Euler method, the dynamics of E and I populations can be simulated on a time-grid of stepsize $\\Delta t$. The updates for the activity of the excitatory and the inhibitory populations can be written as:\n",
    "\n",
    "\\begin{align}\n",
    "r_E[k+1] &= r_E[k] + \\Delta r_E[k]\\\\\n",
    "r_I[k+1] &= r_I[k] + \\Delta r_I[k]\n",
    "\\end{align}\n",
    "\n",
    "with the increments\n",
    "\n",
    "\\begin{align}\n",
    "\\Delta r_E[k] &= \\frac{\\Delta t}{\\tau_E}[-r_E[k] + F_E(w_{EE}r_E[k] -w_{EI}r_I[k] + I^{\\text{ext}}_E[k];a_E,\\theta_E)]\\\\\n",
    "\\Delta r_I[k] &= \\frac{\\Delta t}{\\tau_I}[-r_I[k] + F_I(w_{IE}r_E[k] -w_{II}r_I[k] + I^{\\text{ext}}_I[k];a_I,\\theta_I)]\n",
    "\\end{align}"
   ]
  },
  {
   "cell_type": "markdown",
   "metadata": {
    "execution": {}
   },
   "source": [
    "#### Coding Exercise 1.2: Numerically integrate the Wilson-Cowan equations\n",
    "\n",
    "We will implement this numerical simulation of our equations and visualize two simulations with similar initial points."
   ]
  },
  {
   "cell_type": "code",
   "execution_count": null,
   "metadata": {},
   "outputs": [],
   "source": [
    "def simulate_wc(tau_E, a_E, theta_E, tau_I, a_I, theta_I,\n",
    "                wEE, wEI, wIE, wII, I_ext_E, I_ext_I,\n",
    "                rE_init, rI_init, dt, range_t, **other_pars):\n",
    "  \"\"\"\n",
    "  Simulate the Wilson-Cowan equations\n",
    "\n",
    "  Args:\n",
    "    Parameters of the Wilson-Cowan model\n",
    "\n",
    "  Returns:\n",
    "    rE, rI (arrays) : Activity of excitatory and inhibitory populations\n",
    "  \"\"\"\n",
    "  # Initialize activity arrays\n",
    "  Lt = range_t.size\n",
    "  rE = np.append(rE_init, np.zeros(Lt - 1))\n",
    "  rI = np.append(rI_init, np.zeros(Lt - 1))\n",
    "  I_ext_E = I_ext_E * np.ones(Lt)\n",
    "  I_ext_I = I_ext_I * np.ones(Lt)\n",
    "\n",
    "  # Simulate the Wilson-Cowan equations\n",
    "  for k in range(Lt - 1):\n",
    "\n",
    "    ########################################################################\n",
    "    # TODO for students: compute drE and drI and remove the error\n",
    "    raise NotImplementedError(\"Student exercise: compute the change in E/I\")\n",
    "    ########################################################################\n",
    "\n",
    "    # Calculate the derivative of the E population\n",
    "    drE = ...\n",
    "\n",
    "    # Calculate the derivative of the I population\n",
    "    drI = ...\n",
    "\n",
    "    # Update using Euler's method\n",
    "    rE[k + 1] = rE[k] + drE\n",
    "    rI[k + 1] = rI[k] + drI\n",
    "\n",
    "  return rE, rI\n",
    "\n",
    "\n",
    "pars = default_pars()\n",
    "\n",
    "# Simulate first trajectory\n",
    "rE1, rI1 = simulate_wc(**default_pars(rE_init=.32, rI_init=.15))\n",
    "\n",
    "# Simulate second trajectory\n",
    "rE2, rI2 = simulate_wc(**default_pars(rE_init=.33, rI_init=.15))\n",
    "\n",
    "# Visualize\n",
    "my_test_plot(pars['range_t'], rE1, rI1, rE2, rI2)"
   ]
  },
  {
   "cell_type": "markdown",
   "metadata": {
    "cellView": "both",
    "colab_type": "text",
    "execution": {}
   },
   "source": [
    "[*Click for solution*](https://github.com/NeuromatchAcademy/course-content/tree/main/tutorials/W2D4_DynamicNetworks/solutions/W2D4_Tutorial2_Solution_15eff812.py)\n",
    "\n",
    "*Example output:*\n",
    "\n",
    "<img alt='Solution hint' align='left' width=778.0 height=579.0 src=https://raw.githubusercontent.com/NeuromatchAcademy/course-content/main/tutorials/W2D4_DynamicNetworks/static/W2D4_Tutorial2_Solution_15eff812_0.png>"
   ]
  },
  {
   "cell_type": "markdown",
   "metadata": {
    "execution": {}
   },
   "source": [
    "The two plots above show the temporal evolution of excitatory ($r_E$, blue) and inhibitory ($r_I$, red) activity for two different sets of initial conditions."
   ]
  },
  {
   "cell_type": "markdown",
   "metadata": {
    "execution": {}
   },
   "source": [
    "#### Interactive Demo 1.2: population trajectories with different initial values\n",
    "\n",
    "In this interactive demo, we will simulate the Wilson-Cowan model and plot the trajectories of each population. We change the initial activity of the excitatory population.\n",
    "\n",
    "What happens to the E and I population trajectories with different initial conditions?"
   ]
  },
  {
   "cell_type": "markdown",
   "metadata": {},
   "source": [
    " Make sure you execute this cell to enable the widget!\n"
   ]
  },
  {
   "cell_type": "code",
   "execution_count": null,
   "metadata": {
    "cellView": "form",
    "tags": [
     "hide-input"
    ]
   },
   "outputs": [],
   "source": [
    "# @markdown Make sure you execute this cell to enable the widget!\n",
    "@widgets.interact(\n",
    "    rE_init=widgets.FloatSlider(0.32, min=0.30, max=0.35, step=.01)\n",
    ")\n",
    "\n",
    "\n",
    "def plot_EI_diffinitial(rE_init=0.0):\n",
    "\n",
    "  pars = default_pars(rE_init=rE_init, rI_init=.15)\n",
    "  rE, rI = simulate_wc(**pars)\n",
    "\n",
    "  plt.figure()\n",
    "  plt.plot(pars['range_t'], rE, 'b', label='E population')\n",
    "  plt.plot(pars['range_t'], rI, 'r', label='I population')\n",
    "  plt.xlabel('t (ms)')\n",
    "  plt.ylabel('Activity')\n",
    "  plt.legend(loc='best')\n",
    "  plt.show()"
   ]
  },
  {
   "cell_type": "markdown",
   "metadata": {
    "colab_type": "text",
    "execution": {}
   },
   "source": [
    "[*Click for solution*](https://github.com/NeuromatchAcademy/course-content/tree/main/tutorials/W2D4_DynamicNetworks/solutions/W2D4_Tutorial2_Solution_873fc84e.py)"
   ]
  },
  {
   "cell_type": "markdown",
   "metadata": {
    "execution": {}
   },
   "source": [
    "#### Think! 1.2\n",
    "It is evident that the steady states of the neuronal response can be different when different initial states are chosen. Why is that?\n",
    "\n",
    "We will discuss this in the next section but try to think about it first."
   ]
  },
  {
   "cell_type": "markdown",
   "metadata": {
    "execution": {}
   },
   "source": [
    "---\n",
    "## Section 2: Phase plane analysis\n",
    "\n",
    "Here we will learn a  graphical approach called **phase plane analysis** to study the dynamics of a 2-D system like the Wilson-Cowan model.\n",
    "So far, we have plotted the activities of the two populations as a function of time, i.e., in the `Activity-t` plane, either the $(t, r_E(t))$ plane or the $(t, r_I(t))$ one. Instead, we can plot the two activities $r_E(t)$ and $r_I(t)$ against each other at any time point $t$. This characterization in the `rI-rE` plane $(r_I(t), r_E(t))$ is called the **phase plane**. Each line in the phase plane indicates how both $r_E$ and $r_I$ evolve with time."
   ]
  },
  {
   "cell_type": "markdown",
   "metadata": {
    "execution": {}
   },
   "source": [
    "#### Interactive Demo 2: From the Activity - time plane to the **$r_I$ - $r_E$** phase plane\n",
    "\n",
    "In this demo, we will visualize the system dynamics using both the `Activity-time` and the `(rE, rI)` phase plane. The circles indicate the activities at a given time $t$, while the lines represent the evolution of the system for the entire duration of the simulation.\n",
    "\n",
    "Move the time slider to better understand how the top plot relates to the bottom plot. Does the bottom plot have explicit information about time? What information does it give us?"
   ]
  },
  {
   "cell_type": "markdown",
   "metadata": {},
   "source": [
    " Make sure you execute this cell to enable the widget!\n"
   ]
  },
  {
   "cell_type": "code",
   "execution_count": null,
   "metadata": {
    "cellView": "form",
    "tags": [
     "hide-input"
    ]
   },
   "outputs": [],
   "source": [
    "# @markdown Make sure you execute this cell to enable the widget!\n",
    "\n",
    "pars = default_pars(T=10, rE_init=0.6, rI_init=0.8)\n",
    "rE, rI = simulate_wc(**pars)\n",
    "\n",
    "@widgets.interact(\n",
    "    n_t=widgets.IntSlider(0, min=0, max=len(pars['range_t']) - 1, step=1)\n",
    ")\n",
    "\n",
    "\n",
    "def plot_activity_phase(n_t):\n",
    "  plt.figure(figsize=(8, 5.5))\n",
    "  plt.subplot(211)\n",
    "  plt.plot(pars['range_t'], rE, 'b', label=r'$r_E$')\n",
    "  plt.plot(pars['range_t'], rI, 'r', label=r'$r_I$')\n",
    "  plt.plot(pars['range_t'][n_t], rE[n_t], 'bo')\n",
    "  plt.plot(pars['range_t'][n_t], rI[n_t], 'ro')\n",
    "  plt.axvline(pars['range_t'][n_t], 0, 1, color='k', ls='--')\n",
    "  plt.xlabel('t (ms)', fontsize=14)\n",
    "  plt.ylabel('Activity', fontsize=14)\n",
    "  plt.legend(loc='best', fontsize=14)\n",
    "\n",
    "  plt.subplot(212)\n",
    "  plt.plot(rE, rI, 'k')\n",
    "  plt.plot(rE[n_t], rI[n_t], 'ko')\n",
    "  plt.xlabel(r'$r_E$', fontsize=18, color='b')\n",
    "  plt.ylabel(r'$r_I$', fontsize=18, color='r')\n",
    "\n",
    "  plt.tight_layout()\n",
    "  plt.show()"
   ]
  },
  {
   "cell_type": "markdown",
   "metadata": {
    "colab_type": "text",
    "execution": {}
   },
   "source": [
    "[*Click for solution*](https://github.com/NeuromatchAcademy/course-content/tree/main/tutorials/W2D4_DynamicNetworks/solutions/W2D4_Tutorial2_Solution_5d1fcb72.py)"
   ]
  },
  {
   "cell_type": "markdown",
   "metadata": {
    "execution": {}
   },
   "source": [
    "### Section 2.1: Nullclines of the Wilson-Cowan Equations\n",
    "\n",
    "An important concept in the phase plane analysis is the \"nullcline\" which is defined as the set of points in the phase plane where the activity of one population (but not necessarily the other) does not change.\n",
    "\n",
    "In other words, the $E$ and $I$ nullclines of Equation $(1)$ are defined as the points where $\\displaystyle{\\frac{\\mathrm{d}r_E}{\\mathrm{d}t}}=0$, for the excitatory nullcline, or $\\displaystyle\\frac{\\mathrm{d}r_I}{\\mathrm{d}t}=0$ for the inhibitory nullcline. That is:\n",
    "\n",
    "\\begin{align}\n",
    "-r_E + F_E(w_{EE}r_E -w_{EI}r_I + I^{\\text{ext}}_E;a_E,\\theta_E) &= 0  \\qquad (2)\\\\[1mm]\n",
    "-r_I + F_I(w_{IE}r_E -w_{II}r_I + I^{\\text{ext}}_I;a_I,\\theta_I) &= 0  \\qquad (3)\n",
    "\\end{align}"
   ]
  },
  {
   "cell_type": "markdown",
   "metadata": {
    "execution": {}
   },
   "source": [
    "#### Coding Exercise 2.1: Compute the nullclines of the Wilson-Cowan model\n",
    "\n",
    "In the next exercise, we will compute and plot the nullclines of the E and I population."
   ]
  },
  {
   "cell_type": "markdown",
   "metadata": {
    "execution": {}
   },
   "source": [
    "Along the nullcline of excitatory population Equation $2$, you can calculate the inhibitory activity by rewriting Equation $2$ into\n",
    "\n",
    "\\begin{align}\n",
    "r_I = \\frac{1}{w_{EI}}\\big{[}w_{EE}r_E - F_E^{-1}(r_E; a_E,\\theta_E) + I^{\\text{ext}}_E \\big{]}. \\qquad(4)\n",
    "\\end{align}\n",
    "\n",
    "where $F_E^{-1}(r_E; a_E,\\theta_E)$ is the inverse of the excitatory transfer function (defined below). Equation $4$ defines the $r_E$ nullcline."
   ]
  },
  {
   "cell_type": "markdown",
   "metadata": {
    "execution": {}
   },
   "source": [
    "Along the nullcline of inhibitory population Equation $3$, you can calculate the excitatory activity by rewriting Equation $3$ into\n",
    "\\begin{align}\n",
    "r_E = \\frac{1}{w_{IE}} \\big{[} w_{II}r_I + F_I^{-1}(r_I;a_I,\\theta_I) - I^{\\text{ext}}_I \\big{]}  \\qquad (5)\n",
    "\\end{align}\n",
    "\n",
    "shere $F_I^{-1}(r_I; a_I,\\theta_I)$ is the inverse of the inhibitory transfer function (defined below). Equation $5$ defines the $I$ nullcline."
   ]
  },
  {
   "cell_type": "markdown",
   "metadata": {
    "execution": {}
   },
   "source": [
    "Note that, when computing the nullclines with Equations 4-5, we also need to calculate the inverse of the transfer functions.\n",
    "\n",
    "The inverse of the sigmoid shaped **f-I** function that we have been using is:\n",
    "\n",
    "\\begin{equation}\n",
    "F^{-1}(x; a, \\theta) = -\\frac{1}{a} \\ln \\left[ \\frac{1}{x + \\displaystyle \\frac{1}{1+\\text{e}^{a\\theta}}} - 1 \\right] + \\theta \\qquad (6)\n",
    "\\end{equation}\n",
    "\n",
    "The first step is to implement the inverse transfer function:"
   ]
  },
  {
   "cell_type": "code",
   "execution_count": null,
   "metadata": {},
   "outputs": [],
   "source": [
    "def F_inv(x, a, theta):\n",
    "  \"\"\"\n",
    "  Args:\n",
    "    x         : the population input\n",
    "    a         : the gain of the function\n",
    "    theta     : the threshold of the function\n",
    "\n",
    "  Returns:\n",
    "    F_inverse : value of the inverse function\n",
    "  \"\"\"\n",
    "\n",
    "  #########################################################################\n",
    "  # TODO for students: compute F_inverse\n",
    "  raise NotImplementedError(\"Student exercise: compute the inverse of F(x)\")\n",
    "  #########################################################################\n",
    "\n",
    "  # Calculate Finverse (ln(x) can be calculated as np.log(x))\n",
    "  F_inverse = ...\n",
    "\n",
    "  return F_inverse\n",
    "\n",
    "\n",
    "# Set parameters\n",
    "pars = default_pars()\n",
    "x = np.linspace(1e-6, 1, 100)\n",
    "\n",
    "# Get inverse and visualize\n",
    "plot_FI_inverse(x, a=1, theta=3)"
   ]
  },
  {
   "cell_type": "markdown",
   "metadata": {
    "colab_type": "text",
    "execution": {}
   },
   "source": [
    "[*Click for solution*](https://github.com/NeuromatchAcademy/course-content/tree/main/tutorials/W2D4_DynamicNetworks/solutions/W2D4_Tutorial2_Solution_f3500f59.py)\n",
    "\n"
   ]
  },
  {
   "cell_type": "markdown",
   "metadata": {
    "execution": {}
   },
   "source": [
    "Now you can compute the nullclines, using Equations 4-5 (repeated here for ease of access):\n",
    "\n",
    "\\begin{align}\n",
    "r_I &= \\frac{1}{w_{EI}}\\big{[}w_{EE}r_E - F_E^{-1}(r_E; a_E,\\theta_E) + I^{\\text{ext}}_E \\big{]} &\\qquad(4) \\\\\n",
    "r_E &= \\frac{1}{w_{IE}} \\big{[} w_{II}r_I + F_I^{-1}(r_I;a_I,\\theta_I) - I^{\\text{ext}}_I \\big{]} &\\qquad (5)\n",
    "\\end{align}"
   ]
  },
  {
   "cell_type": "code",
   "execution_count": null,
   "metadata": {},
   "outputs": [],
   "source": [
    "def get_E_nullcline(rE, a_E, theta_E, wEE, wEI, I_ext_E, **other_pars):\n",
    "  \"\"\"\n",
    "  Solve for rI along the rE from drE/dt = 0.\n",
    "\n",
    "  Args:\n",
    "    rE    : response of excitatory population\n",
    "    a_E, theta_E, wEE, wEI, I_ext_E : Wilson-Cowan excitatory parameters\n",
    "    Other parameters are ignored\n",
    "\n",
    "  Returns:\n",
    "    rI    : values of inhibitory population along the nullcline on the rE\n",
    "  \"\"\"\n",
    "  #########################################################################\n",
    "  # TODO for students: compute rI for rE nullcline and disable the error\n",
    "  raise NotImplementedError(\"Student exercise: compute the E nullcline\")\n",
    "  #########################################################################\n",
    "\n",
    "  # calculate rI for E nullclines on rI\n",
    "  rI = ...\n",
    "\n",
    "  return rI\n",
    "\n",
    "\n",
    "def get_I_nullcline(rI, a_I, theta_I, wIE, wII, I_ext_I, **other_pars):\n",
    "  \"\"\"\n",
    "  Solve for E along the rI from dI/dt = 0.\n",
    "\n",
    "  Args:\n",
    "    rI    : response of inhibitory population\n",
    "    a_I, theta_I, wIE, wII, I_ext_I : Wilson-Cowan inhibitory parameters\n",
    "    Other parameters are ignored\n",
    "\n",
    "  Returns:\n",
    "    rE    : values of the excitatory population along the nullcline on the rI\n",
    "  \"\"\"\n",
    "  #########################################################################\n",
    "  # TODO for students: compute rI for rE nullcline and disable the error\n",
    "  raise NotImplementedError(\"Student exercise: compute the I nullcline\")\n",
    "  #########################################################################\n",
    "\n",
    "  # calculate rE for I nullclines on rI\n",
    "  rE = ...\n",
    "\n",
    "  return rE\n",
    "\n",
    "\n",
    "# Set parameters\n",
    "pars = default_pars()\n",
    "Exc_null_rE = np.linspace(-0.01, 0.96, 100)\n",
    "Inh_null_rI = np.linspace(-.01, 0.8, 100)\n",
    "\n",
    "# Compute nullclines\n",
    "Exc_null_rI = get_E_nullcline(Exc_null_rE, **pars)\n",
    "Inh_null_rE = get_I_nullcline(Inh_null_rI, **pars)\n",
    "\n",
    "# Visualize\n",
    "plot_nullclines(Exc_null_rE, Exc_null_rI, Inh_null_rE, Inh_null_rI)"
   ]
  },
  {
   "cell_type": "markdown",
   "metadata": {
    "cellView": "both",
    "colab_type": "text",
    "execution": {}
   },
   "source": [
    "[*Click for solution*](https://github.com/NeuromatchAcademy/course-content/tree/main/tutorials/W2D4_DynamicNetworks/solutions/W2D4_Tutorial2_Solution_db10856b.py)\n",
    "\n",
    "*Example output:*\n",
    "\n",
    "<img alt='Solution hint' align='left' width=777.0 height=577.0 src=https://raw.githubusercontent.com/NeuromatchAcademy/course-content/main/tutorials/W2D4_DynamicNetworks/static/W2D4_Tutorial2_Solution_db10856b_0.png>\n",
    "\n",
    "<img alt='Solution hint' align='left' width=778.0 height=577.0 src=https://raw.githubusercontent.com/NeuromatchAcademy/course-content/main/tutorials/W2D4_DynamicNetworks/static/W2D4_Tutorial2_Solution_db10856b_1.png>\n",
    "\n",
    "<img alt='Solution hint' align='left' width=777.0 height=577.0 src=https://raw.githubusercontent.com/NeuromatchAcademy/course-content/main/tutorials/W2D4_DynamicNetworks/static/W2D4_Tutorial2_Solution_db10856b_2.png>\n",
    "\n"
   ]
  },
  {
   "cell_type": "markdown",
   "metadata": {
    "execution": {}
   },
   "source": [
    "Note that by definition along the blue line in the phase-plane spanned by $r_E, r_I$, $\\displaystyle{\\frac{\\mathrm{d}r_E(t)}{\\mathrm{d}t}} = 0$, therefore, it is called a nullcline.\n",
    "\n",
    "That is, the blue nullcline divides the phase-plane spanned by $r_E, r_I$ into two regions: on one side of the nullcline $\\displaystyle{\\frac{\\mathrm{d}r_E(t)}{\\mathrm{d}t}} > 0$ and on the other side $\\displaystyle{\\frac{\\mathrm{d}r_E(t)}{\\mathrm{d}t}} < 0$.\n",
    "\n",
    "The same is true for the red line along which $\\displaystyle{\\frac{\\mathrm{d}r_I(t)}{\\mathrm{d}t}} = 0$. That is, the red nullcline divides the phase-plane spanned by $r_E, r_I$ into two regions: on one side of the nullcline $\\displaystyle{\\frac{\\mathrm{d}r_I(t)}{\\mathrm{d}t}} > 0$ and on the other side $\\displaystyle{\\frac{\\mathrm{d}r_I(t)}{\\mathrm{d}t}} < 0$.\n"
   ]
  },
  {
   "cell_type": "markdown",
   "metadata": {
    "execution": {}
   },
   "source": [
    "### Section 2.2: Vector field\n",
    "\n",
    "How can the phase plane and the nullcline curves help us understand the behavior of the Wilson-Cowan model?\n",
    "\n",
    "The activities of the $E$ and $I$ populations $r_E(t)$ and $r_I(t)$ at each time point $t$ correspond to a single point in the phase plane, with coordinates $(r_E(t),r_I(t))$. Therefore, the time-dependent trajectory of the system can be described as a continuous curve in the phase plane, and the tangent vector to the trajectory, which is defined as the vector $\\bigg{(}\\displaystyle{\\frac{\\mathrm{d}r_E(t)}{\\mathrm{d}t},\\frac{\\mathrm{d}r_I(t)}{\\mathrm{d}t}}\\bigg{)}$, indicates the direction towards which the activity is evolving and how fast is the activity changing along each axis. In fact, for each point $(E,I)$ in the phase plane, we can compute the tangent vector $\\bigg{(}\\displaystyle{\\frac{\\mathrm{d}r_E}{\\mathrm{d}t},\\frac{\\mathrm{d}r_I}{\\mathrm{d}t}}\\bigg{)}$, which  indicates the behavior of the system when it traverses that point.\n",
    " \n",
    "The map of tangent vectors in the phase plane is called **vector field**. The behavior of any trajectory in the phase plane is determined by i) the initial conditions $(r_E(0),r_I(0))$, and ii) the vector field $\\bigg{(}\\displaystyle{\\frac{\\mathrm{d}r_E(t)}{\\mathrm{d}t},\\frac{\\mathrm{d}r_I(t)}{\\mathrm{d}t}}\\bigg{)}$.\n",
    "\n",
    "In general, the value of the vector field at a particular point in the phase plane is represented by an arrow. The orientation and the size of the arrow reflect the direction and the norm of the vector, respectively."
   ]
  },
  {
   "cell_type": "markdown",
   "metadata": {
    "execution": {}
   },
   "source": [
    "#### Coding Exercise 2.2: Compute and plot the vector field $\\displaystyle{\\Big{(}\\frac{\\mathrm{d}r_E}{\\mathrm{d}t}, \\frac{\\mathrm{d}r_I}{\\mathrm{d}t} \\Big{)}}$\n",
    "\n",
    "Note that\n",
    "\n",
    "\\begin{align}\n",
    "\\frac{\\mathrm{d}r_E}{\\mathrm{d}t} &= [-r_E + F_E(w_{EE}r_E -w_{EI}r_I + I^{\\text{ext}}_E;a_E,\\theta_E)]\\frac{1}{\\tau_E}\\\\\n",
    "\\frac{\\mathrm{d}r_I}{\\mathrm{d}t} &= [-r_I + F_I(w_{IE}r_E -w_{II}r_I + I^{\\text{ext}}_I;a_I,\\theta_I)]\\frac{1}{\\tau_I}\n",
    "\\end{align}"
   ]
  },
  {
   "cell_type": "code",
   "execution_count": null,
   "metadata": {},
   "outputs": [],
   "source": [
    "def EIderivs(rE, rI,\n",
    "             tau_E, a_E, theta_E, wEE, wEI, I_ext_E,\n",
    "             tau_I, a_I, theta_I, wIE, wII, I_ext_I,\n",
    "             **other_pars):\n",
    "  \"\"\"Time derivatives for E/I variables (dE/dt, dI/dt).\"\"\"\n",
    "  ######################################################################\n",
    "  # TODO for students: compute drEdt and drIdt and disable the error\n",
    "  raise NotImplementedError(\"Student exercise: compute the vector field\")\n",
    "  ######################################################################\n",
    "\n",
    "  # Compute the derivative of rE\n",
    "  drEdt = ...\n",
    "\n",
    "  # Compute the derivative of rI\n",
    "  drIdt = ...\n",
    "\n",
    "  return drEdt, drIdt\n",
    "\n",
    "\n",
    "# Create vector field using EIderivs\n",
    "plot_complete_analysis(default_pars())"
   ]
  },
  {
   "cell_type": "markdown",
   "metadata": {
    "cellView": "both",
    "colab_type": "text",
    "execution": {}
   },
   "source": [
    "[*Click for solution*](https://github.com/NeuromatchAcademy/course-content/tree/main/tutorials/W2D4_DynamicNetworks/solutions/W2D4_Tutorial2_Solution_92ba9d03.py)\n",
    "\n",
    "*Example output:*\n",
    "\n",
    "<img alt='Solution hint' align='left' width=748.0 height=578.0 src=https://raw.githubusercontent.com/NeuromatchAcademy/course-content/main/tutorials/W2D4_DynamicNetworks/static/W2D4_Tutorial2_Solution_92ba9d03_0.png>\n",
    "\n",
    "<img alt='Solution hint' align='left' width=743.0 height=577.0 src=https://raw.githubusercontent.com/NeuromatchAcademy/course-content/main/tutorials/W2D4_DynamicNetworks/static/W2D4_Tutorial2_Solution_92ba9d03_1.png>\n",
    "\n"
   ]
  },
  {
   "cell_type": "markdown",
   "metadata": {
    "execution": {}
   },
   "source": [
    "The last phase plane plot shows us that:\n",
    "\n",
    "- Trajectories seem to follow the direction of the vector field.\n",
    "- Different trajectories eventually always reach one of two points depending on the initial conditions.\n",
    "- The two points where the trajectories converge are the intersection of the two nullcline curves."
   ]
  },
  {
   "cell_type": "markdown",
   "metadata": {
    "execution": {}
   },
   "source": [
    "#### Think! 2.2: Analyzing the vector field\n",
    "\n",
    "There are, in total, three intersection points, meaning that the system has three fixed points.\n",
    "\n",
    "1. One of the fixed points (the one in the middle) is never the final state of a trajectory. Why is that?\n",
    "2. Why do the arrows tend to get smaller as they approach the fixed points?"
   ]
  },
  {
   "cell_type": "markdown",
   "metadata": {
    "colab_type": "text",
    "execution": {}
   },
   "source": [
    "[*Click for solution*](https://github.com/NeuromatchAcademy/course-content/tree/main/tutorials/W2D4_DynamicNetworks/solutions/W2D4_Tutorial2_Solution_c77396d3.py)"
   ]
  },
  {
   "cell_type": "markdown",
   "metadata": {
    "execution": {}
   },
   "source": [
    "---\n",
    "## Summary (Part 2)\n",
    "\n",
    "Here, you learned how to simulate a rate based model consisting of excitatory and inhibitory population of neurons, namely by:\n",
    "- Implementing and simulate a 2D system composed of an E and an I population of neurons using the **Wilson-Cowan** model\n",
    "- Plotting the frequency-current (F-I) curves for both populations\n",
    "- Examining the behavior of the system using phase **plane analysis**, **vector fields**, and **nullclines**."
   ]
  },
  {
   "cell_type": "markdown",
   "metadata": {
    "execution": {}
   },
   "source": [
    "# Part 3: Extending the Wilson-Cowan Model\n",
    "---\n",
    "\n",
    "Here we will dive into some deeper analyses of the **Wilson-Cowan** rate model..\n",
    "\n",
    "- Find and plot the **fixed points** of the Wilson-Cowan model.\n",
    "- Investigate the stability of the Wilson-Cowan model by linearizing its dynamics and examining the **Jacobian matrix**.\n",
    "- Learn how the Wilson-Cowan model can reach an oscillatory state.\n",
    "\n",
    "Applications of Wilson-Cowan model:\n",
    "- Visualize the behavior of an Inhibition-stabilized network.\n",
    "- Simulate working memory using the Wilson-Cowan model.\n",
    "\n",
    "<br>\n",
    "\n",
    "Reference paper:\n",
    "\n",
    "Wilson, H., and Cowan, J. (1972). Excitatory and inhibitory interactions in localized populations of model neurons. _Biophysical Journal_ **12**. doi: [10.1016/S0006-3495(72)86068-5](https://doi.org/10.1016/S0006-3495(72)86068-5)"
   ]
  },
  {
   "cell_type": "markdown",
   "metadata": {},
   "source": [
    "###  Plotting Functions\n"
   ]
  },
  {
   "cell_type": "code",
   "execution_count": null,
   "metadata": {
    "cellView": "form",
    "tags": [
     "hide-input"
    ]
   },
   "outputs": [],
   "source": [
    "# @title Plotting Functions\n",
    "\n",
    "def plot_FI_inverse(x, a, theta):\n",
    "  f, ax = plt.subplots()\n",
    "  ax.plot(x, F_inv(x, a=a, theta=theta))\n",
    "  ax.set(xlabel=\"$x$\", ylabel=\"$F^{-1}(x)$\")\n",
    "\n",
    "\n",
    "def plot_FI_EI(x, FI_exc, FI_inh):\n",
    "  plt.figure()\n",
    "  plt.plot(x, FI_exc, 'b', label='E population')\n",
    "  plt.plot(x, FI_inh, 'r', label='I population')\n",
    "  plt.legend(loc='lower right')\n",
    "  plt.xlabel('x (a.u.)')\n",
    "  plt.ylabel('F(x)')\n",
    "  plt.show()\n",
    "\n",
    "\n",
    "def my_test_plot(t, rE1, rI1, rE2, rI2):\n",
    "\n",
    "  plt.figure()\n",
    "  ax1 = plt.subplot(211)\n",
    "  ax1.plot(pars['range_t'], rE1, 'b', label='E population')\n",
    "  ax1.plot(pars['range_t'], rI1, 'r', label='I population')\n",
    "  ax1.set_ylabel('Activity')\n",
    "  ax1.legend(loc='best')\n",
    "\n",
    "  ax2 = plt.subplot(212, sharex=ax1, sharey=ax1)\n",
    "  ax2.plot(pars['range_t'], rE2, 'b', label='E population')\n",
    "  ax2.plot(pars['range_t'], rI2, 'r', label='I population')\n",
    "  ax2.set_xlabel('t (ms)')\n",
    "  ax2.set_ylabel('Activity')\n",
    "  ax2.legend(loc='best')\n",
    "\n",
    "  plt.tight_layout()\n",
    "  plt.show()\n",
    "\n",
    "\n",
    "def plot_nullclines(Exc_null_rE, Exc_null_rI, Inh_null_rE, Inh_null_rI):\n",
    "\n",
    "  plt.figure()\n",
    "  plt.plot(Exc_null_rE, Exc_null_rI, 'b', label='E nullcline')\n",
    "  plt.plot(Inh_null_rE, Inh_null_rI, 'r', label='I nullcline')\n",
    "  plt.xlabel(r'$r_E$')\n",
    "  plt.ylabel(r'$r_I$')\n",
    "  plt.legend(loc='best')\n",
    "  plt.show()\n",
    "\n",
    "\n",
    "def my_plot_nullcline(pars):\n",
    "  Exc_null_rE = np.linspace(-0.01, 0.96, 100)\n",
    "  Exc_null_rI = get_E_nullcline(Exc_null_rE, **pars)\n",
    "  Inh_null_rI = np.linspace(-.01, 0.8, 100)\n",
    "  Inh_null_rE = get_I_nullcline(Inh_null_rI, **pars)\n",
    "\n",
    "  plt.plot(Exc_null_rE, Exc_null_rI, 'b', label='E nullcline')\n",
    "  plt.plot(Inh_null_rE, Inh_null_rI, 'r', label='I nullcline')\n",
    "  plt.xlabel(r'$r_E$')\n",
    "  plt.ylabel(r'$r_I$')\n",
    "  plt.legend(loc='best')\n",
    "\n",
    "\n",
    "def my_plot_vector(pars, my_n_skip=2, myscale=5):\n",
    "  EI_grid = np.linspace(0., 1., 20)\n",
    "  rE, rI = np.meshgrid(EI_grid, EI_grid)\n",
    "  drEdt, drIdt = EIderivs(rE, rI, **pars)\n",
    "\n",
    "  n_skip = my_n_skip\n",
    "\n",
    "  plt.quiver(rE[::n_skip, ::n_skip], rI[::n_skip, ::n_skip],\n",
    "             drEdt[::n_skip, ::n_skip], drIdt[::n_skip, ::n_skip],\n",
    "             angles='xy', scale_units='xy', scale=myscale, facecolor='c')\n",
    "\n",
    "  plt.xlabel(r'$r_E$')\n",
    "  plt.ylabel(r'$r_I$')\n",
    "\n",
    "\n",
    "def my_plot_trajectory(pars, mycolor, x_init, mylabel):\n",
    "  pars = pars.copy()\n",
    "  pars['rE_init'], pars['rI_init'] = x_init[0], x_init[1]\n",
    "  rE_tj, rI_tj = simulate_wc(**pars)\n",
    "\n",
    "  plt.plot(rE_tj, rI_tj, color=mycolor, label=mylabel)\n",
    "  plt.plot(x_init[0], x_init[1], 'o', color=mycolor, ms=8)\n",
    "  plt.xlabel(r'$r_E$')\n",
    "  plt.ylabel(r'$r_I$')\n",
    "\n",
    "\n",
    "def my_plot_trajectories(pars, dx, n, mylabel):\n",
    "  \"\"\"\n",
    "  Solve for I along the E_grid from dE/dt = 0.\n",
    "\n",
    "  Expects:\n",
    "  pars    : Parameter dictionary\n",
    "  dx      : increment of initial values\n",
    "  n       : n*n trjectories\n",
    "  mylabel : label for legend\n",
    "\n",
    "  Returns:\n",
    "    figure of trajectory\n",
    "  \"\"\"\n",
    "  pars = pars.copy()\n",
    "  for ie in range(n):\n",
    "    for ii in range(n):\n",
    "      pars['rE_init'], pars['rI_init'] = dx * ie, dx * ii\n",
    "      rE_tj, rI_tj = simulate_wc(**pars)\n",
    "      if (ie == n-1) & (ii == n-1):\n",
    "          plt.plot(rE_tj, rI_tj, 'gray', alpha=0.8, label=mylabel)\n",
    "      else:\n",
    "          plt.plot(rE_tj, rI_tj, 'gray', alpha=0.8)\n",
    "\n",
    "  plt.xlabel(r'$r_E$')\n",
    "  plt.ylabel(r'$r_I$')\n",
    "\n",
    "\n",
    "def plot_complete_analysis(pars):\n",
    "  plt.figure(figsize=(7.7, 6.))\n",
    "\n",
    "  # plot example trajectories\n",
    "  my_plot_trajectories(pars, 0.2, 6,\n",
    "                       'Sample trajectories \\nfor different init. conditions')\n",
    "  my_plot_trajectory(pars, 'orange', [0.6, 0.8],\n",
    "                     'Sample trajectory for \\nlow activity')\n",
    "  my_plot_trajectory(pars, 'm', [0.6, 0.6],\n",
    "                     'Sample trajectory for \\nhigh activity')\n",
    "\n",
    "  # plot nullclines\n",
    "  my_plot_nullcline(pars)\n",
    "\n",
    "  # plot vector field\n",
    "  EI_grid = np.linspace(0., 1., 20)\n",
    "  rE, rI = np.meshgrid(EI_grid, EI_grid)\n",
    "  drEdt, drIdt = EIderivs(rE, rI, **pars)\n",
    "  n_skip = 2\n",
    "  plt.quiver(rE[::n_skip, ::n_skip], rI[::n_skip, ::n_skip],\n",
    "             drEdt[::n_skip, ::n_skip], drIdt[::n_skip, ::n_skip],\n",
    "             angles='xy', scale_units='xy', scale=5., facecolor='c')\n",
    "\n",
    "  plt.legend(loc=[1.02, 0.57], handlelength=1)\n",
    "  plt.show()\n",
    "\n",
    "\n",
    "def plot_fp(x_fp, position=(0.02, 0.1), rotation=0):\n",
    "  plt.plot(x_fp[0], x_fp[1], 'ko', ms=8)\n",
    "  plt.text(x_fp[0] + position[0], x_fp[1] + position[1],\n",
    "           f'Fixed Point1=\\n({x_fp[0]:.3f}, {x_fp[1]:.3f})',\n",
    "           horizontalalignment='center', verticalalignment='bottom',\n",
    "           rotation=rotation)"
   ]
  },
  {
   "cell_type": "markdown",
   "metadata": {},
   "source": [
    "### Helper functions"
   ]
  },
  {
   "cell_type": "code",
   "execution_count": null,
   "metadata": {
    "cellView": "form",
    "tags": [
     "hide-input"
    ]
   },
   "outputs": [],
   "source": [
    "# @title Helper functions\n",
    "\n",
    "\n",
    "def default_pars(**kwargs):\n",
    "  pars = {}\n",
    "\n",
    "  # Excitatory parameters\n",
    "  pars['tau_E'] = 1.     # Timescale of the E population [ms]\n",
    "  pars['a_E'] = 1.2      # Gain of the E population\n",
    "  pars['theta_E'] = 2.8  # Threshold of the E population\n",
    "\n",
    "  # Inhibitory parameters\n",
    "  pars['tau_I'] = 2.0    # Timescale of the I population [ms]\n",
    "  pars['a_I'] = 1.0      # Gain of the I population\n",
    "  pars['theta_I'] = 4.0  # Threshold of the I population\n",
    "\n",
    "  # Connection strength\n",
    "  pars['wEE'] = 9.   # E to E\n",
    "  pars['wEI'] = 4.   # I to E\n",
    "  pars['wIE'] = 13.  # E to I\n",
    "  pars['wII'] = 11.  # I to I\n",
    "\n",
    "  # External input\n",
    "  pars['I_ext_E'] = 0.\n",
    "  pars['I_ext_I'] = 0.\n",
    "\n",
    "  # simulation parameters\n",
    "  pars['T'] = 50.        # Total duration of simulation [ms]\n",
    "  pars['dt'] = .1        # Simulation time step [ms]\n",
    "  pars['rE_init'] = 0.2  # Initial value of E\n",
    "  pars['rI_init'] = 0.2  # Initial value of I\n",
    "\n",
    "  # External parameters if any\n",
    "  for k in kwargs:\n",
    "      pars[k] = kwargs[k]\n",
    "\n",
    "  # Vector of discretized time points [ms]\n",
    "  pars['range_t'] = np.arange(0, pars['T'], pars['dt'])\n",
    "\n",
    "  return pars\n",
    "\n",
    "\n",
    "def F(x, a, theta):\n",
    "  \"\"\"\n",
    "  Population activation function, F-I curve\n",
    "\n",
    "  Args:\n",
    "    x     : the population input\n",
    "    a     : the gain of the function\n",
    "    theta : the threshold of the function\n",
    "\n",
    "  Returns:\n",
    "    f     : the population activation response f(x) for input x\n",
    "  \"\"\"\n",
    "\n",
    "  # add the expression of f = F(x)\n",
    "  f = (1 + np.exp(-a * (x - theta)))**-1 - (1 + np.exp(a * theta))**-1\n",
    "\n",
    "  return f\n",
    "\n",
    "\n",
    "def dF(x, a, theta):\n",
    "  \"\"\"\n",
    "  Derivative of the population activation function.\n",
    "\n",
    "  Args:\n",
    "    x     : the population input\n",
    "    a     : the gain of the function\n",
    "    theta : the threshold of the function\n",
    "\n",
    "  Returns:\n",
    "    dFdx  :  Derivative of the population activation function.\n",
    "  \"\"\"\n",
    "\n",
    "  dFdx = a * np.exp(-a * (x - theta)) * (1 + np.exp(-a * (x - theta)))**-2\n",
    "\n",
    "  return dFdx\n",
    "\n",
    "def F_inv(x, a, theta):\n",
    "  \"\"\"\n",
    "  Args:\n",
    "    x         : the population input\n",
    "    a         : the gain of the function\n",
    "    theta     : the threshold of the function\n",
    "\n",
    "  Returns:\n",
    "    F_inverse : value of the inverse function\n",
    "  \"\"\"\n",
    "\n",
    "  # Calculate Finverse (ln(x) can be calculated as np.log(x))\n",
    "  F_inverse = -1/a * np.log((x + (1 + np.exp(a * theta))**-1)**-1 - 1) + theta\n",
    "\n",
    "  return F_inverse\n",
    "\n",
    "\n",
    "def get_E_nullcline(rE, a_E, theta_E, wEE, wEI, I_ext_E, **other_pars):\n",
    "  \"\"\"\n",
    "  Solve for rI along the rE from drE/dt = 0.\n",
    "\n",
    "  Args:\n",
    "    rE    : response of excitatory population\n",
    "    a_E, theta_E, wEE, wEI, I_ext_E : Wilson-Cowan excitatory parameters\n",
    "    Other parameters are ignored\n",
    "\n",
    "  Returns:\n",
    "    rI    : values of inhibitory population along the nullcline on the rE\n",
    "  \"\"\"\n",
    "  # calculate rI for E nullclines on rI\n",
    "  rI = 1 / wEI * (wEE * rE - F_inv(rE, a_E, theta_E) + I_ext_E)\n",
    "\n",
    "  return rI\n",
    "\n",
    "\n",
    "def get_I_nullcline(rI, a_I, theta_I, wIE, wII, I_ext_I, **other_pars):\n",
    "  \"\"\"\n",
    "  Solve for E along the rI from dI/dt = 0.\n",
    "\n",
    "  Args:\n",
    "    rI    : response of inhibitory population\n",
    "    a_I, theta_I, wIE, wII, I_ext_I : Wilson-Cowan inhibitory parameters\n",
    "    Other parameters are ignored\n",
    "\n",
    "  Returns:\n",
    "    rE    : values of the excitatory population along the nullcline on the rI\n",
    "  \"\"\"\n",
    "  # calculate rE for I nullclines on rI\n",
    "  rE = 1 / wIE * (wII * rI + F_inv(rI, a_I, theta_I) - I_ext_I)\n",
    "\n",
    "  return rE\n",
    "\n",
    "def EIderivs(rE, rI,\n",
    "             tau_E, a_E, theta_E, wEE, wEI, I_ext_E,\n",
    "             tau_I, a_I, theta_I, wIE, wII, I_ext_I,\n",
    "             **other_pars):\n",
    "  \"\"\"Time derivatives for E/I variables (dE/dt, dI/dt).\"\"\"\n",
    "\n",
    "  # Compute the derivative of rE\n",
    "  drEdt = (-rE + F(wEE * rE - wEI * rI + I_ext_E, a_E, theta_E)) / tau_E\n",
    "\n",
    "  # Compute the derivative of rI\n",
    "  drIdt = (-rI + F(wIE * rE - wII * rI + I_ext_I, a_I, theta_I)) / tau_I\n",
    "\n",
    "  return drEdt, drIdt\n",
    "\n",
    "def simulate_wc(tau_E, a_E, theta_E, tau_I, a_I, theta_I,\n",
    "                wEE, wEI, wIE, wII, I_ext_E, I_ext_I,\n",
    "                rE_init, rI_init, dt, range_t, **other_pars):\n",
    "  \"\"\"\n",
    "  Simulate the Wilson-Cowan equations\n",
    "\n",
    "  Args:\n",
    "    Parameters of the Wilson-Cowan model\n",
    "\n",
    "  Returns:\n",
    "    rE, rI (arrays) : Activity of excitatory and inhibitory populations\n",
    "  \"\"\"\n",
    "  # Initialize activity arrays\n",
    "  Lt = range_t.size\n",
    "  rE = np.append(rE_init, np.zeros(Lt - 1))\n",
    "  rI = np.append(rI_init, np.zeros(Lt - 1))\n",
    "  I_ext_E = I_ext_E * np.ones(Lt)\n",
    "  I_ext_I = I_ext_I * np.ones(Lt)\n",
    "\n",
    "  # Simulate the Wilson-Cowan equations\n",
    "  for k in range(Lt - 1):\n",
    "\n",
    "    # Calculate the derivative of the E population\n",
    "    drE = dt / tau_E * (-rE[k] + F(wEE * rE[k] - wEI * rI[k] + I_ext_E[k],\n",
    "                                   a_E, theta_E))\n",
    "\n",
    "    # Calculate the derivative of the I population\n",
    "    drI = dt / tau_I * (-rI[k] + F(wIE * rE[k] - wII * rI[k] + I_ext_I[k],\n",
    "                                   a_I, theta_I))\n",
    "\n",
    "    # Update using Euler's method\n",
    "    rE[k + 1] = rE[k] + drE\n",
    "    rI[k + 1] = rI[k] + drI\n",
    "\n",
    "  return rE, rI"
   ]
  },
  {
   "cell_type": "markdown",
   "metadata": {
    "execution": {}
   },
   "source": [
    "The helper functions included:\n",
    "\n",
    "- Parameter dictionary: `default_pars(**kwargs)`. You can use:\n",
    "  - `pars = default_pars()` to get all the parameters, and then you can execute `print(pars)` to check these parameters.\n",
    "  - `pars = default_pars(T=T_sim, dt=time_step)` to set a different simulation time and time step\n",
    "  - After `pars = default_pars()`, use `par['New_para'] = value` to add a new parameter with its value\n",
    "  - Pass to functions that accept individual parameters with `func(**pars)`\n",
    "- F-I curve: `F(x, a, theta)`\n",
    "- Derivative of the F-I curve: `dF(x, a, theta)`\n",
    "- Inverse of F-I curve: `F_inv`\n",
    "- Nullcline calculations: `get_E_nullcline`, `get_I_nullcline`\n",
    "- Derivatives of E/I variables: `EIderivs`\n",
    "- Simulate the Wilson-Cowan model: `simulate_wc`"
   ]
  },
  {
   "cell_type": "markdown",
   "metadata": {
    "execution": {}
   },
   "source": [
    "---\n",
    "## Section 1: Fixed points, stability analysis, and limit cycles in the Wilson-Cowan model"
   ]
  },
  {
   "cell_type": "markdown",
   "metadata": {
    "execution": {}
   },
   "source": [
    "As before, we will be looking at the Wilson-Cowan model, with coupled equations representing the dynamics of the excitatory or inhibitory population:\n",
    "\n",
    "\\begin{align}\n",
    "\\tau_E \\frac{\\mathrm{d}r_E}{\\mathrm{d}t} &= -r_E + F_E(w_{EE}r_E -w_{EI}r_I + I^{\\text{ext}}_E;a_E,\\theta_E) \\\\\n",
    "\\tau_I \\frac{\\mathrm{d}r_I}{\\mathrm{d}t} &= -r_I + F_I(w_{IE}r_E -w_{II}r_I + I^{\\text{ext}}_I;a_I,\\theta_I) \\qquad (1)\n",
    "\\end{align}\n",
    "\n",
    "$r_E(t)$ represents the average activation (or firing rate) of the excitatory population at time $t$, and $r_I(t)$ the activation (or firing rate) of the inhibitory population. The parameters $\\tau_E$ and $\\tau_I$ control the timescales of the dynamics of each population. Connection strengths are given by: $w_{EE}$ (E $\\rightarrow$ E), $w_{EI}$ (I $\\rightarrow$ E), $w_{IE}$ (E $\\rightarrow$ I), and $w_{II}$ (I $\\rightarrow$ I). The terms $w_{EI}$ and $w_{IE}$ represent connections from inhibitory to excitatory population and vice versa, respectively. The transfer functions (or F-I curves) $F_E(x;a_E,\\theta_E)$ and $F_I(x;a_I,\\theta_I)$ can be different for the excitatory and the inhibitory populations."
   ]
  },
  {
   "cell_type": "markdown",
   "metadata": {
    "execution": {}
   },
   "source": [
    "### Section 1.1: Fixed Points of the E/I system\n",
    "\n",
    "The intersection points of the two nullcline curves are the fixed points of the Wilson-Cowan model in Equation $(1)$.\n",
    "\n",
    "In the next exercise, we will find the coordinate of all fixed points for a given set of parameters.\n",
    "\n",
    "We'll make use of two functions, similar to the last part of the tutorial, which use a root-finding algorithm to find the fixed points of the system with Excitatory and Inhibitory populations."
   ]
  },
  {
   "cell_type": "markdown",
   "metadata": {},
   "source": [
    " Execute to visualize nullclines\n"
   ]
  },
  {
   "cell_type": "code",
   "execution_count": null,
   "metadata": {
    "cellView": "form",
    "tags": [
     "hide-input"
    ]
   },
   "outputs": [],
   "source": [
    "# @markdown Execute to visualize nullclines\n",
    "\n",
    "# Set parameters\n",
    "pars = default_pars()\n",
    "Exc_null_rE = np.linspace(-0.01, 0.96, 100)\n",
    "Inh_null_rI = np.linspace(-.01, 0.8, 100)\n",
    "\n",
    "# Compute nullclines\n",
    "Exc_null_rI = get_E_nullcline(Exc_null_rE, **pars)\n",
    "Inh_null_rE = get_I_nullcline(Inh_null_rI, **pars)\n",
    "\n",
    "plot_nullclines(Exc_null_rE, Exc_null_rI, Inh_null_rE, Inh_null_rI)"
   ]
  },
  {
   "cell_type": "markdown",
   "metadata": {},
   "source": [
    " *Execute the cell to define `my_fp` and `check_fp`*\n"
   ]
  },
  {
   "cell_type": "code",
   "execution_count": null,
   "metadata": {
    "cellView": "form",
    "tags": [
     "hide-input"
    ]
   },
   "outputs": [],
   "source": [
    "# @markdown *Execute the cell to define `my_fp` and `check_fp`*\n",
    "\n",
    "def my_fp(pars, rE_init, rI_init):\n",
    "  \"\"\"\n",
    "  Use opt.root function to solve Equations (2)-(3) from initial values\n",
    "  \"\"\"\n",
    "\n",
    "  tau_E, a_E, theta_E = pars['tau_E'], pars['a_E'], pars['theta_E']\n",
    "  tau_I, a_I, theta_I = pars['tau_I'], pars['a_I'], pars['theta_I']\n",
    "  wEE, wEI = pars['wEE'], pars['wEI']\n",
    "  wIE, wII = pars['wIE'], pars['wII']\n",
    "  I_ext_E, I_ext_I = pars['I_ext_E'], pars['I_ext_I']\n",
    "\n",
    "  # define the right hand of wilson-cowan equations\n",
    "  def my_WCr(x):\n",
    "\n",
    "    rE, rI = x\n",
    "    drEdt = (-rE + F(wEE * rE - wEI * rI + I_ext_E, a_E, theta_E)) / tau_E\n",
    "    drIdt = (-rI + F(wIE * rE - wII * rI + I_ext_I, a_I, theta_I)) / tau_I\n",
    "    y = np.array([drEdt, drIdt])\n",
    "\n",
    "    return y\n",
    "\n",
    "  x0 = np.array([rE_init, rI_init])\n",
    "  x_fp = opt.root(my_WCr, x0).x\n",
    "\n",
    "  return x_fp\n",
    "\n",
    "\n",
    "def check_fp(pars, x_fp, mytol=1e-6):\n",
    "  \"\"\"\n",
    "  Verify (drE/dt)^2 + (drI/dt)^2< mytol\n",
    "\n",
    "  Args:\n",
    "    pars    : Parameter dictionary\n",
    "    fp      : value of fixed point\n",
    "    mytol   : tolerance, default as 10^{-6}\n",
    "\n",
    "  Returns :\n",
    "    Whether it is a correct fixed point: True/False\n",
    "  \"\"\"\n",
    "\n",
    "  drEdt, drIdt = EIderivs(x_fp[0], x_fp[1], **pars)\n",
    "\n",
    "  return drEdt**2 + drIdt**2 < mytol\n",
    "\n",
    "help(my_fp)"
   ]
  },
  {
   "cell_type": "markdown",
   "metadata": {
    "execution": {}
   },
   "source": [
    "#### Coding Exercise 1.1: Find the fixed points of the Wilson-Cowan model\n",
    "\n",
    "From the above nullclines, we notice that the system features  three fixed points with the parameters we used. To find their coordinates, we need to choose a proper initial value to give to the `opt.root` function inside of the function `my_fp` we just defined, since the algorithm can only find fixed points in the vicinity of the initial value.\n",
    "\n",
    "In this exercise, you will use the function `my_fp` to find each of the fixed points by varying the initial values. Note that you can choose the values near the intersections of the nullclines as the initial values to calculate the fixed points."
   ]
  },
  {
   "cell_type": "code",
   "execution_count": null,
   "metadata": {},
   "outputs": [],
   "source": [
    "pars = default_pars()\n",
    "\n",
    "######################################################################\n",
    "# TODO: Provide initial values to calculate the fixed points\n",
    "# Check if x_fp's are the correct with the function check_fp(x_fp)\n",
    "# Hint: vary different initial values to find the correct fixed points\n",
    "raise NotImplementedError('student exercise: find fixed points')\n",
    "######################################################################\n",
    "\n",
    "my_plot_nullcline(pars)\n",
    "\n",
    "# Find the first fixed point\n",
    "x_fp_1 = my_fp(pars, ..., ...)\n",
    "if check_fp(pars, x_fp_1):\n",
    "  plot_fp(x_fp_1)\n",
    "\n",
    "# Find the second fixed point\n",
    "x_fp_2 = my_fp(pars, ..., ...)\n",
    "if check_fp(pars, x_fp_2):\n",
    "  plot_fp(x_fp_2)\n",
    "\n",
    "# Find the third fixed point\n",
    "x_fp_3 = my_fp(pars, ..., ...)\n",
    "if check_fp(pars, x_fp_3):\n",
    "  plot_fp(x_fp_3)"
   ]
  },
  {
   "cell_type": "markdown",
   "metadata": {
    "cellView": "both",
    "colab_type": "text",
    "execution": {}
   },
   "source": [
    "[*Click for solution*](https://github.com/NeuromatchAcademy/course-content/tree/main/tutorials/W2D4_DynamicNetworks/solutions/W2D4_Tutorial3_Solution_0dd7ba5a.py)\n",
    "\n",
    "*Example output:*\n",
    "\n",
    "<img alt='Solution hint' align='left' width=775.0 height=575.0 src=https://raw.githubusercontent.com/NeuromatchAcademy/course-content/main/tutorials/W2D4_DynamicNetworks/static/W2D4_Tutorial3_Solution_0dd7ba5a_0.png>\n",
    "\n"
   ]
  },
  {
   "cell_type": "markdown",
   "metadata": {
    "execution": {}
   },
   "source": [
    "### Section 1.2: Stability of a fixed point and eigenvalues of the Jacobian Matrix\n",
    "\n",
    "First, let's first rewrite the system $1$ as:\n",
    "\n",
    "\\begin{align}\n",
    "\\frac{\\mathrm{d}r_E}{\\mathrm{d}t} &= G_E(r_E,r_I) \\\\\n",
    "\\frac{\\mathrm{d}r_I}{\\mathrm{d}t} &= G_I(r_E,r_I)\n",
    "\\end{align}\n",
    "\n",
    "where\n",
    "\n",
    "\\begin{align}\n",
    "G_E(r_E,r_I) &= \\frac{1}{\\tau_E} \\left[-r_E + F_E(w_{EE}r_E -w_{EI}r_I + I^{\\text{ext}}_E;a,\\theta)\\right] \\\\\n",
    "G_I(r_E,r_I) &= \\frac{1}{\\tau_I} \\left[-r_I + F_I(w_{IE}r_E -w_{II}r_I + I^{\\text{ext}}_I;a,\\theta)\\right]\n",
    "\\end{align}\n",
    "\n",
    "By definition, $\\displaystyle\\frac{\\mathrm{d}r_E}{\\mathrm{d}t}=0$ and $\\displaystyle\\frac{\\mathrm{d}r_I}{\\mathrm{d}t}=0$ at each fixed point. Therefore, if the initial state is exactly at the fixed point, the state of the system will not change as time evolves.\n",
    "\n",
    "However, if the initial state deviates slightly from the fixed point, there are two possibilities\n",
    "the trajectory will be attracted back to the\n",
    "\n",
    "1. The trajectory will be attracted back to the fixed point\n",
    "2. The trajectory will diverge from the fixed point.\n",
    "\n",
    "These two possibilities define the type of fixed point, i.e., stable or unstable. The stability of a fixed point $(r_E^*, r_I^*)$ can be determined by linearizing the dynamics of the system (can you figure out how?). The linearization will yield a matrix of first-order derivatives called the Jacobian matrix:\n",
    "\n",
    "\\begin{equation}\n",
    "J=\n",
    "\\left[ {\\begin{array}\n",
    "  \\displaystyle{\\frac{\\partial}{\\partial r_E}}G_E(r_E^*, r_I^*) & \\displaystyle{\\frac{\\partial}{\\partial r_I}}G_E(r_E^*, r_I^*)\\\\[1mm]\n",
    "  \\displaystyle\\frac{\\partial}{\\partial r_E} G_I(r_E^*, r_I^*) & \\displaystyle\\frac{\\partial}{\\partial r_I}G_I(r_E^*, r_I^*) \\\\\n",
    "\\end{array} } \\right] \\quad (7)\n",
    "\\end{equation}\n",
    "\n",
    "<br>\n",
    "\n",
    "The eigenvalues of the Jacobian matrix calculated at the fixed point will determine whether it is a stable or unstable fixed point.\n",
    "\n",
    "We can now compute the derivatives needed to build the Jacobian matrix. Using the chain and product rules the derivatives for the excitatory population are given by:\n",
    "\n",
    "<br>\n",
    "\n",
    "\\begin{align}\n",
    "\\frac{\\partial}{\\partial r_E} G_E(r_E^*, r_I^*) &= \\frac{1}{\\tau_E} [-1 + w_{EE} F_E'(w_{EE}r_E^* -w_{EI}r_I^* +  I^{\\text{ext}}_E;\\alpha_E, \\theta_E)] \\\\[1mm]\n",
    "\\frac{\\partial}{\\partial r_I} G_E(r_E^*, r_I^*) &= \\frac{1}{\\tau_E} [-w_{EI} F_E'(w_{EE}r_E^* -w_{EI}r_I^* +  I^{\\text{ext}}_E;\\alpha_E, \\theta_E)]\n",
    "\\end{align}\n",
    "\n",
    "<br>\n",
    "\n",
    "The same applies to the inhibitory population."
   ]
  },
  {
   "cell_type": "markdown",
   "metadata": {
    "execution": {}
   },
   "source": [
    "#### Coding Exercise 1.2: Compute the Jacobian Matrix for the Wilson-Cowan model\n",
    "\n",
    "Here, you can use `dF(x,a,theta)` defined in the `Helper functions` to calculate the derivative of the F-I curve."
   ]
  },
  {
   "cell_type": "code",
   "execution_count": null,
   "metadata": {},
   "outputs": [],
   "source": [
    "def get_eig_Jacobian(fp,\n",
    "                     tau_E, a_E, theta_E, wEE, wEI, I_ext_E,\n",
    "                     tau_I, a_I, theta_I, wIE, wII, I_ext_I, **other_pars):\n",
    "  \"\"\"Compute eigenvalues of the Wilson-Cowan Jacobian matrix at fixed point.\"\"\"\n",
    "  # Initialization\n",
    "  rE, rI = fp\n",
    "  J = np.zeros((2, 2))\n",
    "\n",
    "  ###########################################################################\n",
    "  # TODO for students: compute J and disable the error\n",
    "  raise NotImplementedError(\"Student exercise: compute the Jacobian matrix\")\n",
    "  ###########################################################################\n",
    "  # Compute the four elements of the Jacobian matrix\n",
    "  J[0, 0] = ...\n",
    "  J[0, 1] = ...\n",
    "  J[1, 0] = ...\n",
    "  J[1, 1] = ...\n",
    "\n",
    "  # Compute and return the eigenvalues\n",
    "  evals = np.linalg.eig(J)[0]\n",
    "  return evals\n",
    "\n",
    "\n",
    "# Compute eigenvalues of Jacobian\n",
    "eig_1 = get_eig_Jacobian(x_fp_1, **pars)\n",
    "eig_2 = get_eig_Jacobian(x_fp_2, **pars)\n",
    "eig_3 = get_eig_Jacobian(x_fp_3, **pars)\n",
    "\n",
    "print(eig_1, 'Stable point')\n",
    "print(eig_2, 'Unstable point')\n",
    "print(eig_3, 'Stable point')"
   ]
  },
  {
   "cell_type": "markdown",
   "metadata": {
    "cellView": "both",
    "colab_type": "text",
    "execution": {}
   },
   "source": [
    "[*Click for solution*](https://github.com/NeuromatchAcademy/course-content/tree/main/tutorials/W2D4_DynamicNetworks/solutions/W2D4_Tutorial3_Solution_e4231a54.py)\n",
    "\n"
   ]
  },
  {
   "cell_type": "markdown",
   "metadata": {
    "execution": {}
   },
   "source": [
    "As is evident, the stable fixed points correspond to the negative eigenvalues, while unstable points correspond to at least one positive eigenvalue."
   ]
  },
  {
   "cell_type": "markdown",
   "metadata": {
    "execution": {}
   },
   "source": [
    "The sign of the eigenvalues is determined by the connectivity (interaction) between excitatory and inhibitory populations.\n",
    "\n",
    "Below we investigate the effect of $w_{EE}$ on the nullclines and the eigenvalues of the dynamical system.\n",
    "\n",
    "\\* _Critical change is referred to as **pitchfork bifurcation**_."
   ]
  },
  {
   "cell_type": "markdown",
   "metadata": {
    "execution": {}
   },
   "source": [
    "### Section 1.3: Effect of `wEE` on the nullclines and the eigenvalues"
   ]
  },
  {
   "cell_type": "markdown",
   "metadata": {
    "execution": {}
   },
   "source": [
    "#### Interactive Demo 1.3: Nullclines position in the phase plane changes with parameter values\n",
    "\n",
    "How do the nullclines move for different values of the parameter $w_{EE}$? What does this mean for fixed points and system activity?"
   ]
  },
  {
   "cell_type": "markdown",
   "metadata": {},
   "source": [
    " Make sure you execute this cell to enable the widget!\n"
   ]
  },
  {
   "cell_type": "code",
   "execution_count": null,
   "metadata": {
    "cellView": "form",
    "tags": [
     "hide-input"
    ]
   },
   "outputs": [],
   "source": [
    "# @markdown Make sure you execute this cell to enable the widget!\n",
    "\n",
    "@widgets.interact(\n",
    "    wEE=widgets.FloatSlider(6., min=6., max=10., step=0.01)\n",
    ")\n",
    "\n",
    "def plot_nullcline_diffwEE(wEE):\n",
    "  \"\"\"\n",
    "    plot nullclines for different values of wEE\n",
    "  \"\"\"\n",
    "\n",
    "  pars = default_pars(wEE=wEE)\n",
    "\n",
    "  # plot the E, I nullclines\n",
    "  Exc_null_rE = np.linspace(-0.01, .96, 100)\n",
    "  Exc_null_rI = get_E_nullcline(Exc_null_rE, **pars)\n",
    "\n",
    "  Inh_null_rI = np.linspace(-.01, .8, 100)\n",
    "  Inh_null_rE = get_I_nullcline(Inh_null_rI, **pars)\n",
    "\n",
    "  plt.figure(figsize=(12, 5.5))\n",
    "  plt.subplot(121)\n",
    "  plt.plot(Exc_null_rE, Exc_null_rI, 'b', label='E nullcline')\n",
    "  plt.plot(Inh_null_rE, Inh_null_rI, 'r', label='I nullcline')\n",
    "  plt.xlabel(r'$r_E$')\n",
    "  plt.ylabel(r'$r_I$')\n",
    "  plt.legend(loc='best')\n",
    "\n",
    "  plt.subplot(222)\n",
    "  pars['rE_init'], pars['rI_init'] = 0.2, 0.2\n",
    "  rE, rI = simulate_wc(**pars)\n",
    "  plt.plot(pars['range_t'], rE, 'b', label='E population', clip_on=False)\n",
    "  plt.plot(pars['range_t'], rI, 'r', label='I population', clip_on=False)\n",
    "  plt.ylabel('Activity')\n",
    "  plt.legend(loc='best')\n",
    "  plt.ylim(-0.05, 1.05)\n",
    "  plt.title('E/I activity\\nfor different initial conditions',\n",
    "            fontweight='bold')\n",
    "\n",
    "  plt.subplot(224)\n",
    "  pars['rE_init'], pars['rI_init'] = 0.4, 0.1\n",
    "  rE, rI = simulate_wc(**pars)\n",
    "  plt.plot(pars['range_t'], rE, 'b', label='E population', clip_on=False)\n",
    "  plt.plot(pars['range_t'], rI, 'r', label='I population', clip_on=False)\n",
    "  plt.xlabel('t (ms)')\n",
    "  plt.ylabel('Activity')\n",
    "  plt.legend(loc='best')\n",
    "  plt.ylim(-0.05, 1.05)\n",
    "\n",
    "  plt.tight_layout()\n",
    "  plt.show()"
   ]
  },
  {
   "cell_type": "markdown",
   "metadata": {
    "colab_type": "text",
    "execution": {}
   },
   "source": [
    "[*Click for solution*](https://github.com/NeuromatchAcademy/course-content/tree/main/tutorials/W2D4_DynamicNetworks/solutions/W2D4_Tutorial3_Solution_b1caf06e.py)"
   ]
  },
  {
   "cell_type": "markdown",
   "metadata": {
    "execution": {}
   },
   "source": [
    "We can also investigate the effect of different $w_{EI}$, $w_{IE}$, $w_{II}$, $\\tau_{E}$, $\\tau_{I}$, and $I_{E}^{\\text{ext}}$ on the stability of fixed points. In addition, we can also consider the perturbation of the parameters of the gain curve $F(\\cdot)$."
   ]
  },
  {
   "cell_type": "markdown",
   "metadata": {
    "execution": {}
   },
   "source": [
    "### Section 1.4: Limit cycle - Oscillations\n",
    "\n",
    "For some values of interaction terms ($w_{EE}, w_{IE}, w_{EI}, w_{II}$), the eigenvalues can become complex. When at least one pair of eigenvalues is complex, oscillations arise.\n",
    "The stability of oscillations is determined by the real part of the eigenvalues (+ve real part oscillations will grow, -ve real part oscillations will die out). The size of the complex part determines the frequency of oscillations.\n",
    "\n",
    "For instance, if we use a different set of parameters, $w_{EE}=6.4$, $w_{EI}=4.8$, $w_{IE}=6.$, $w_{II}=1.2$, and $I_{E}^{\\text{ext}}=0.8$, then we shall observe that the E and I population activity start to oscillate! Please execute the cell below to check the oscillatory behavior."
   ]
  },
  {
   "cell_type": "markdown",
   "metadata": {},
   "source": [
    " Make sure you execute this cell to see the oscillations!\n"
   ]
  },
  {
   "cell_type": "code",
   "execution_count": null,
   "metadata": {
    "cellView": "form",
    "tags": [
     "hide-input"
    ]
   },
   "outputs": [],
   "source": [
    "# @markdown Make sure you execute this cell to see the oscillations!\n",
    "\n",
    "pars = default_pars(T=100.)\n",
    "pars['wEE'], pars['wEI'] = 6.4, 4.8\n",
    "pars['wIE'], pars['wII'] = 6.0, 1.2\n",
    "pars['I_ext_E'] = 0.8\n",
    "pars['rE_init'], pars['rI_init'] = 0.25, 0.25\n",
    "\n",
    "rE, rI = simulate_wc(**pars)\n",
    "plt.figure(figsize=(8, 5.5))\n",
    "plt.plot(pars['range_t'], rE, 'b', label=r'$r_E$')\n",
    "plt.plot(pars['range_t'], rI, 'r', label=r'$r_I$')\n",
    "plt.xlabel('t (ms)')\n",
    "plt.ylabel('Activity')\n",
    "plt.legend(loc='best')\n",
    "plt.show()"
   ]
  },
  {
   "cell_type": "markdown",
   "metadata": {
    "execution": {}
   },
   "source": [
    "We can also understand the oscillations of the population behavior using the phase plane. By plotting a set of trajectories with different initial states, we can see that these trajectories will move in a circle instead of converging to a fixed point. This circle is called \"limit cycle\" and shows the periodic oscillations of the $E$ and $I$ population behavior under some conditions.\n",
    "\n",
    "Let's plot the phase plane using the previously defined functions."
   ]
  },
  {
   "cell_type": "markdown",
   "metadata": {},
   "source": [
    " Execute to visualize phase plane\n"
   ]
  },
  {
   "cell_type": "code",
   "execution_count": null,
   "metadata": {
    "cellView": "form",
    "tags": [
     "hide-input"
    ]
   },
   "outputs": [],
   "source": [
    "# @markdown Execute to visualize phase plane\n",
    "\n",
    "pars = default_pars(T=100.)\n",
    "pars['wEE'], pars['wEI'] = 6.4, 4.8\n",
    "pars['wIE'], pars['wII'] = 6.0, 1.2\n",
    "pars['I_ext_E'] = 0.8\n",
    "\n",
    "\n",
    "plt.figure(figsize=(7, 5.5))\n",
    "my_plot_nullcline(pars)\n",
    "\n",
    "# Find the correct fixed point\n",
    "x_fp_1 = my_fp(pars, 0.8, 0.8)\n",
    "if check_fp(pars, x_fp_1):\n",
    "  plot_fp(x_fp_1, position=(0, 0), rotation=40)\n",
    "\n",
    "my_plot_trajectories(pars, 0.2, 3,\n",
    "                      'Sample trajectories \\nwith different initial values')\n",
    "\n",
    "my_plot_vector(pars)\n",
    "\n",
    "plt.legend(loc=[1.01, 0.7])\n",
    "plt.xlim(-0.05, 1.01)\n",
    "plt.ylim(-0.05, 0.65)\n",
    "plt.show()"
   ]
  },
  {
   "cell_type": "markdown",
   "metadata": {
    "execution": {}
   },
   "source": [
    "#### Interactive Demo 1.4: Limit cycle and oscillations\n",
    "\n",
    "From the above examples, the change of model parameters changes the shape of the nullclines and, accordingly, the behavior of the $E$ and $I$ populations from steady fixed points to oscillations. However, the shape of the nullclines is unable to fully determine the behavior of the network. The vector field also matters. To demonstrate this, here, we will investigate the effect of time constants on the population behavior. By changing the inhibitory time constant $\\tau_I$, the nullclines do not change, but the network behavior changes substantially from steady state to oscillations with different frequencies.\n",
    "\n",
    "Such a dramatic change in the system behavior is referred to as a **bifurcation**."
   ]
  },
  {
   "cell_type": "markdown",
   "metadata": {},
   "source": [
    " Make sure you execute this cell to enable the widget!\n"
   ]
  },
  {
   "cell_type": "code",
   "execution_count": null,
   "metadata": {
    "cellView": "form",
    "tags": [
     "hide-input"
    ]
   },
   "outputs": [],
   "source": [
    "# @markdown Make sure you execute this cell to enable the widget!\n",
    "\n",
    "@widgets.interact(\n",
    "    tau_i=widgets.FloatSlider(1.5, min=0.2, max=3., step=.1)\n",
    ")\n",
    "\n",
    "\n",
    "def time_constant_effect(tau_i=0.5):\n",
    "\n",
    "  pars = default_pars(T=100.)\n",
    "  pars['wEE'], pars['wEI'] = 6.4, 4.8\n",
    "  pars['wIE'], pars['wII'] = 6.0, 1.2\n",
    "  pars['I_ext_E'] = 0.8\n",
    "\n",
    "  pars['tau_I'] = tau_i\n",
    "\n",
    "  Exc_null_rE = np.linspace(0.0, .9, 100)\n",
    "  Inh_null_rI = np.linspace(0.0, .6, 100)\n",
    "\n",
    "  Exc_null_rI = get_E_nullcline(Exc_null_rE, **pars)\n",
    "  Inh_null_rE = get_I_nullcline(Inh_null_rI, **pars)\n",
    "\n",
    "  plt.figure(figsize=(12.5, 5.5))\n",
    "\n",
    "  plt.subplot(121)  # nullclines\n",
    "  plt.plot(Exc_null_rE, Exc_null_rI, 'b', label='E nullcline', zorder=2)\n",
    "  plt.plot(Inh_null_rE, Inh_null_rI, 'r', label='I nullcline', zorder=2)\n",
    "  plt.xlabel(r'$r_E$')\n",
    "  plt.ylabel(r'$r_I$')\n",
    "\n",
    "  # fixed point\n",
    "  x_fp_1 = my_fp(pars, 0.5, 0.5)\n",
    "  plt.plot(x_fp_1[0], x_fp_1[1], 'ko', zorder=2)\n",
    "\n",
    "  eig_1 = get_eig_Jacobian(x_fp_1, **pars)\n",
    "\n",
    "  # trajectories\n",
    "  for ie in range(5):\n",
    "    for ii in range(5):\n",
    "      pars['rE_init'], pars['rI_init'] = 0.1 * ie, 0.1 * ii\n",
    "      rE_tj, rI_tj = simulate_wc(**pars)\n",
    "      plt.plot(rE_tj, rI_tj, 'k', alpha=0.3, zorder=1)\n",
    "\n",
    "  # vector field\n",
    "  EI_grid_E = np.linspace(0., 1.0, 20)\n",
    "  EI_grid_I = np.linspace(0., 0.6, 20)\n",
    "  rE, rI = np.meshgrid(EI_grid_E, EI_grid_I)\n",
    "  drEdt, drIdt = EIderivs(rE, rI, **pars)\n",
    "  n_skip = 2\n",
    "  plt.quiver(rE[::n_skip, ::n_skip], rI[::n_skip, ::n_skip],\n",
    "              drEdt[::n_skip, ::n_skip], drIdt[::n_skip, ::n_skip],\n",
    "              angles='xy', scale_units='xy', scale=10, facecolor='c')\n",
    "  plt.title(r'$\\tau_I=$'+'%.1f ms' % tau_i)\n",
    "\n",
    "  plt.subplot(122)  # sample E/I trajectories\n",
    "  pars['rE_init'], pars['rI_init'] = 0.25, 0.25\n",
    "  rE, rI = simulate_wc(**pars)\n",
    "  plt.plot(pars['range_t'], rE, 'b', label=r'$r_E$')\n",
    "  plt.plot(pars['range_t'], rI, 'r', label=r'$r_I$')\n",
    "  plt.xlabel('t (ms)')\n",
    "  plt.ylabel('Activity')\n",
    "  plt.title(r'$\\tau_I=$'+'%.1f ms' % tau_i)\n",
    "  plt.legend(loc='best')\n",
    "  plt.tight_layout()\n",
    "  plt.show()"
   ]
  },
  {
   "cell_type": "markdown",
   "metadata": {
    "execution": {}
   },
   "source": [
    "Both $\\tau_E$ and $\\tau_I$ feature in the Jacobian of the two population network (eq 7). So here is seems that the by increasing $\\tau_I$ the eigenvalues corresponding to the stable fixed point are becoming complex.\n",
    "\n",
    "Intuitively, when $\\tau_I$ is smaller, inhibitory activity changes faster than excitatory activity. As inhibition exceeds above a certain value, high inhibition inhibits excitatory population but that in turns means that inhibitory population gets smaller input (from the exc. connection). So inhibition decreases rapidly. But this means that excitation recovers -- and so on ..."
   ]
  },
  {
   "cell_type": "markdown",
   "metadata": {
    "execution": {}
   },
   "source": [
    "---\n",
    "## Section 2: Inhibition-stabilized network (ISN)\n"
   ]
  },
  {
   "cell_type": "markdown",
   "metadata": {
    "execution": {}
   },
   "source": [
    "### Section 2.1: Inhibition-stabilized network\n",
    "\n",
    "As described above, one can obtain the linear approximation around the fixed point as\n",
    "\n",
    "\\begin{equation}\n",
    "\\frac{\\mathrm{d}}{\\mathrm{d}r} \\vec{R} =\n",
    "\\left[ {\\begin{array}\n",
    "\\displaystyle{\\frac{\\partial G_E}{\\partial r_E}} & \\displaystyle{\\frac{\\partial G_E}{\\partial r_I}} \\\\\n",
    "\\displaystyle\\frac{\\partial G_I}{\\partial r_E} & \\displaystyle\\frac{\\partial G_I}{\\partial r_I} \\\\\n",
    "\\end{array} } \\right] \\vec{R},\n",
    "\\end{equation}\n",
    "\n",
    "<br>\n",
    "\n",
    "where $\\vec{R} = [r_E, r_I]^{\\rm T}$ is the vector of the E/I activity.\n",
    "\n",
    "Let's direct our attention to the excitatory subpopulation which follows:\n",
    "\n",
    "<br>\n",
    "\n",
    "\\begin{equation}\n",
    "\\frac{\\mathrm{d}r_E}{\\mathrm{d}t} = \\frac{\\partial G_E}{\\partial r_E}\\cdot r_E + \\frac{\\partial G_E}{\\partial r_I} \\cdot r_I\n",
    "\\end{equation}\n",
    "\n",
    "<br>\n",
    "\n",
    "Recall that, around fixed point $(r_E^*, r_I^*)$:\n",
    "\n",
    "<br>\n",
    "\n",
    "\\begin{align}\n",
    "\\frac{\\partial}{\\partial r_E}G_E(r_E^*, r_I^*) &= \\frac{1}{\\tau_E} [-1 + w_{EE} F'_{E}(w_{EE}r_E^* -w_{EI}r_I^* + I^{\\text{ext}}_E; \\alpha_E, \\theta_E)] &\\qquad (8) \\\\\n",
    "\\frac{\\partial}{\\partial r_I}G_E(r_E^*, r_I^*) &= \\frac{1}{\\tau_E} [-w_{EI} F'_{E}(w_{EE}r_E^* -w_{EI}r_I^* + I^{\\text{ext}}_E; \\alpha_E, \\theta_E)] &\\qquad (9)\\\\\n",
    "\\frac{\\partial}{\\partial r_E}G_I(r_E^*, r_I^*) &= \\frac{1}{\\tau_I} [w_{IE} F'_{I}(w_{IE}r_E^* -w_{II}r_I^* + I^{\\text{ext}}_I; \\alpha_I, \\theta_I)] &\\qquad (10) \\\\\n",
    "\\frac{\\partial}{\\partial r_I}G_I(r_E^*, r_I^*) &= \\frac{1}{\\tau_I} [-1-w_{II} F'_{I}(w_{IE}r_E^* -w_{II}r_I^* + I^{\\text{ext}}_I; \\alpha_I, \\theta_I)] &\\qquad (11)\n",
    "\\end{align}\n",
    "\n",
    "<br>\n",
    "\n",
    "From Equation. (8), it is clear that $\\displaystyle{\\frac{\\partial G_E}{\\partial r_I}}$ is negative since the $\\displaystyle{\\frac{\\mathrm{d}F}{\\mathrm{d}x}}$ is always positive. It can be understood by that the recurrent inhibition from the inhibitory activity ($I$) can reduce the excitatory ($E$) activity. However, as described above, $\\displaystyle{\\frac{\\partial G_E}{\\partial r_E}}$ has negative terms related to the \"leak\" effect, and positive terms related to the recurrent excitation. Therefore, it leads to two different regimes:\n",
    "\n",
    "- $\\displaystyle{\\frac{\\partial}{\\partial r_E}G_E(r_E^*, r_I^*)}<0$, **noninhibition-stabilized\n",
    "network (non-ISN) regime**\n",
    "\n",
    "- $\\displaystyle{\\frac{\\partial}{\\partial r_E}G_E(r_E^*, r_I^*)}>0$, **inhibition-stabilized\n",
    "network (ISN) regime**"
   ]
  },
  {
   "cell_type": "markdown",
   "metadata": {
    "execution": {}
   },
   "source": [
    "#### Coding Exercise 2.1: Compute $\\displaystyle{\\frac{\\partial G_E}{\\partial r_E}}$\n",
    "\n",
    "Implement the function to calculate the $\\displaystyle{\\frac{\\partial G_E}{\\partial r_E}}$ for the default parameters, and the parameters of the limit cycle case."
   ]
  },
  {
   "cell_type": "code",
   "execution_count": null,
   "metadata": {},
   "outputs": [],
   "source": [
    "def get_dGdE(fp, tau_E, a_E, theta_E, wEE, wEI, I_ext_E, **other_pars):\n",
    "  \"\"\"\n",
    "  Compute dGdE\n",
    "\n",
    "  Args:\n",
    "    fp   : fixed point (E, I), array\n",
    "    Other arguments are parameters of the Wilson-Cowan model\n",
    "\n",
    "  Returns:\n",
    "    J    : the 2x2 Jacobian matrix\n",
    "  \"\"\"\n",
    "  rE, rI = fp\n",
    "\n",
    "  ##########################################################################\n",
    "  # TODO for students: compute dGdrE and disable the error\n",
    "  raise NotImplementedError(\"Student exercise: compute the dG/dE, Eq. (13)\")\n",
    "  ##########################################################################\n",
    "  # Calculate the J[0,0]\n",
    "  dGdrE = ...\n",
    "\n",
    "  return dGdrE\n",
    "\n",
    "\n",
    "# Get fixed points\n",
    "pars = default_pars()\n",
    "x_fp_1 = my_fp(pars, 0.1, 0.1)\n",
    "x_fp_2 = my_fp(pars, 0.3, 0.3)\n",
    "x_fp_3 = my_fp(pars, 0.8, 0.6)\n",
    "\n",
    "# Compute dGdE\n",
    "dGdrE1 = get_dGdE(x_fp_1, **pars)\n",
    "dGdrE2 = get_dGdE(x_fp_2, **pars)\n",
    "dGdrE3 = get_dGdE(x_fp_3, **pars)\n",
    "\n",
    "print(f'For the default case:')\n",
    "print(f'dG/drE(fp1) = {dGdrE1:.3f}')\n",
    "print(f'dG/drE(fp2) = {dGdrE2:.3f}')\n",
    "print(f'dG/drE(fp3) = {dGdrE3:.3f}')\n",
    "\n",
    "print('\\n')\n",
    "\n",
    "pars = default_pars(wEE=6.4, wEI=4.8, wIE=6.0, wII=1.2, I_ext_E=0.8)\n",
    "x_fp_lc = my_fp(pars, 0.8, 0.8)\n",
    "\n",
    "dGdrE_lc = get_dGdE(x_fp_lc, **pars)\n",
    "\n",
    "print('For the limit cycle case:')\n",
    "print(f'dG/drE(fp_lc) = {dGdrE_lc:.3f}')"
   ]
  },
  {
   "cell_type": "markdown",
   "metadata": {
    "execution": {}
   },
   "source": [
    "**SAMPLE OUTPUT**\n",
    "```\n",
    "For the default case:\n",
    "dG/drE(fp1) = -0.650\n",
    "dG/drE(fp2) = 1.519\n",
    "dG/drE(fp3) = -0.706\n",
    "\n",
    "\n",
    "For the limit cycle case:\n",
    "dG/drE(fp_lc) = 0.837\n",
    "```"
   ]
  },
  {
   "cell_type": "markdown",
   "metadata": {
    "colab_type": "text",
    "execution": {}
   },
   "source": [
    "[*Click for solution*](https://github.com/NeuromatchAcademy/course-content/tree/main/tutorials/W2D4_DynamicNetworks/solutions/W2D4_Tutorial3_Solution_5dc5b86b.py)"
   ]
  },
  {
   "cell_type": "markdown",
   "metadata": {
    "execution": {}
   },
   "source": [
    "### Section 2.2: Nullcline analysis of the ISN\n",
    "\n",
    "Recall that the E nullcline follows\n",
    "\n",
    "<br>\n",
    "\n",
    "\\begin{equation}\n",
    "r_E = F_E(w_{EE}r_E -w_{EI}r_I + I^{\\text{ext}}_E;a_E,\\theta_E).\n",
    "\\end{equation}\n",
    "\n",
    "<br>\n",
    "\n",
    "That is, the firing rate $r_E$ can be a function of $r_I$. Let's take the derivative of $r_E$ over $r_I$, and obtain\n",
    "\n",
    "<br>\n",
    "\n",
    "\\begin{align}\n",
    "&\\frac{\\mathrm{d}r_E}{\\mathrm{d}r_I} = F_E' \\cdot (w_{EE}\\frac{\\mathrm{d}r_E}{dr_I} -w_{EI}) \\iff \\\\\n",
    "&(1-F_E'w_{EE})\\frac{\\mathrm{d}r_E}{\\mathrm{d}r_I} = -F_E' w_{EI} \\iff \\\\\n",
    "&\\frac{\\mathrm{d}r_E}{\\mathrm{d}r_I} = \\frac{F_E' w_{EI}}{F_E'w_{EE}-1}.\n",
    "\\end{align}\n",
    "\n",
    "<br>\n",
    "\n",
    "That is, in the phase plane `rI-rE`-plane, we can obtain the slope along the E nullcline as\n",
    "\n",
    "<br>\n",
    "\n",
    "\\begin{equation}\n",
    "\\frac{\\mathrm{d}r_I}{\\mathrm{d}r_E} = \\frac{F_E'w_{EE}-1}{F_E' w_{EI}} \\qquad (12)\n",
    "\\end{equation}\n",
    "\n",
    "<br>\n",
    "\n",
    "Similarly, we can obtain the slope along the I nullcline as\n",
    "\n",
    "\\begin{equation}\n",
    "\\frac{\\mathrm{d}r_I}{\\mathrm{d}r_E} = \\frac{F_I'w_{IE}}{F_I' w_{II}+1} \\qquad (13)\n",
    "\\end{equation}\n",
    "\n",
    "<br>\n",
    "\n",
    "Then, we can find that $\\Big{(} \\displaystyle{\\frac{dr_I}{dr_E}} \\Big{)}_{\\rm I-nullcline} >0$ in Equation (13).\n",
    "\n",
    "<br>\n",
    "\n",
    "However, in Equation (12), the sign of $\\Big{(} \\displaystyle{\\frac{\\mathrm{d}r_I}{\\mathrm{d}r_E}} \\Big{)}_{\\rm E-nullcline}$ depends on the sign of $(F_E'w_{EE}-1)$. Note that, $(F_E'w_{EE}-1)$ is the same as what we show above (Equation (8)). Therefore, we can have the following results:\n",
    "\n",
    "- $\\Big{(} \\displaystyle{\\frac{\\mathrm{d}r_I}{\\mathrm{d}r_E}} \\Big{)}_{\\rm E-nullcline}<0$, **noninhibition-stabilized\n",
    "network (non-ISN) regime**\n",
    "\n",
    "- $\\Big{(} \\displaystyle{\\frac{\\mathrm{d}r_I}{\\mathrm{d}r_E}} \\Big{)}_{\\rm E-nullcline}>0$, **inhibition-stabilized\n",
    "network (ISN) regime**\n",
    "\n",
    "<br>\n",
    "\n",
    "In addition, it is important to point out the following two conclusions:\n",
    "\n",
    "**Conclusion 1:** The stability of a fixed point can determine the relationship between the slopes Equations (12) and (13). As discussed above, the fixed point is stable when the Jacobian matrix ($J$ in Equation (7)) has two eigenvalues with a negative real part, which indicates a positive determinant of $J$, i.e., $\\text{det}(J)>0$.\n",
    "\n",
    "From the Jacobian matrix definition and from Equations (8-11), we can obtain:\n",
    "\n",
    "\\begin{equation}\n",
    "J =\n",
    "\\left[ {\\begin{array}\n",
    "\\displaystyle{\\frac{1}{\\tau_E}(w_{EE}F_E'-1)} & \\displaystyle{-\\frac{1}{\\tau_E}w_{EI}F_E'}\\\\[1mm]\n",
    "\\displaystyle {\\frac{1}{\\tau_I}w_{IE}F_I'}& \\displaystyle {\\frac{1}{\\tau_I}(-w_{II}F_I'-1)} \\\\\n",
    "\\end{array} } \\right]\n",
    "\\end{equation}\n",
    "\n",
    "<br>\n",
    "\n",
    "Note that, if we let\n",
    "\n",
    "<br>\n",
    "\n",
    "\\begin{equation}\n",
    "  T=\n",
    "  \\left[\n",
    "  {\n",
    "    \\begin{matrix}\n",
    "      \\displaystyle{\\tau_E} & \\displaystyle{0} \\\\\n",
    "      \\displaystyle 0& \\displaystyle \\tau_I\n",
    "  \\end{matrix}\n",
    "  } \\right],\n",
    "  F=\n",
    "  \\left[\n",
    "  {\n",
    "    \\begin{matrix}\n",
    "      \\displaystyle{F_E'} & \\displaystyle{0} \\\\\n",
    "      \\displaystyle 0& \\displaystyle F_I'\n",
    "    \\end{matrix}\n",
    "  }\n",
    "  \\right]\n",
    "  \\text{, and }\n",
    "  W=\n",
    "  \\left[\n",
    "  {\n",
    "    \\begin{matrix}\n",
    "      \\displaystyle{w_{EE}} & \\displaystyle{-w_{EI}} \\\\\n",
    "      \\displaystyle w_{IE}& \\displaystyle -w_{II}\n",
    "    \\end{matrix}\n",
    "  }\n",
    "  \\right]\n",
    "\\end{equation}\n",
    "\n",
    "then, using matrix notation, $J=T^{-1}(F W - I)$ where $I$ is the identity matrix, i.e., $I = \\begin{bmatrix}\n",
    "1 & 0 \\\\\n",
    "0 & 1\n",
    "\\end{bmatrix}.$\n",
    "\n",
    "<br>\n",
    "\n",
    "Therefore, $\\det{(J)}=\\det{(T^{-1}(F W - I))}=(\\det{(T^{-1})})(\\det{(F W - I)}).$\n",
    "\n",
    "Since $\\det{(T^{-1})}>0$, as time constants are positive by definition, the sign of $\\det{(J)}$ is the same as the sign of $\\det{(F W - I)}$, and so\n",
    "\n",
    "$$\\det{(FW - I)} = (F_E' w_{EI})(F_I'w_{IE}) - (F_I' w_{II} + 1)(F_E'w_{EE} - 1) > 0.$$\n",
    "\n",
    "<br>\n",
    "\n",
    "Then, combining this with Equations (12) and (13), we can obtain\n",
    "\n",
    "\\begin{equation}\n",
    "\\frac{\\Big{(} \\displaystyle{\\frac{\\mathrm{d}r_I}{\\mathrm{d}r_E}} \\Big{)}_{\\rm I-nullcline}}{\\Big{(} \\displaystyle{\\frac{\\mathrm{d}r_I}{\\mathrm{d}r_E}} \\Big{)}_{\\rm E-nullcline}} > 1.\n",
    "\\end{equation}\n",
    "\n",
    "Therefore, at the stable fixed point, I nullcline has a steeper slope than the E nullcline.\n",
    "\n",
    "<br>\n",
    "\n",
    "**Conclusion 2:** Effect of adding input to the inhibitory population.\n",
    "\n",
    "While adding the input $\\delta I^{\\rm ext}_I$ into the inhibitory population, we can find that the E nullcline (Equation (5)) stays the same, while the I nullcline has a pure left shift: the original I nullcline equation,\n",
    "\n",
    "<br>\n",
    "\n",
    "\\begin{equation}\n",
    "r_I = F_I(w_{IE}r_E-w_{II}r_I + I^{\\text{ext}}_I ; \\alpha_I, \\theta_I)\n",
    "\\end{equation}\n",
    "\n",
    "<br>\n",
    "\n",
    "remains true if we take $I^{\\text{ext}}_I \\rightarrow I^{\\text{ext}}_I +\\delta I^{\\rm ext}_I$ and $r_E\\rightarrow r_E'=r_E-\\frac{\\delta I^{\\rm ext}_I}{w_{IE}}$ to obtain\n",
    "\n",
    "<br>\n",
    "\n",
    "\\begin{equation}\n",
    "r_I = F_I(w_{IE}r_E'-w_{II}r_I + I^{\\text{ext}}_I +\\delta I^{\\rm ext}_I; \\alpha_I, \\theta_I)\n",
    "\\end{equation}\n",
    "\n",
    "<br>\n",
    "\n",
    "Putting these points together, we obtain the phase plane pictures shown below. After adding input to the inhibitory population, it can be seen in the trajectories above and the phase plane below that, in an **ISN**, $r_I$ will increase first but then decay to the new fixed point in which both $r_I$ and $r_E$ are decreased compared to the original fixed point. However, by adding $\\delta I^{\\rm ext}_I$ into a **non-ISN**, $r_I$ will increase while $r_E$ will decrease."
   ]
  },
  {
   "cell_type": "markdown",
   "metadata": {
    "execution": {}
   },
   "source": [
    "#### Interactive Demo 2.2: Nullclines of Example **ISN** and **non-ISN**\n",
    "\n",
    "In this interactive widget, we inject excitatory ($I^{\\text{ext}}_I>0$) or inhibitory ($I^{\\text{ext}}_I<0$) drive into the inhibitory population when the system is at its equilibrium (with parameters $w_{EE}=6.4$, $w_{EI}=4.8$, $w_{IE}=6.$, $w_{II}=1.2$, $I_{E}^{\\text{ext}}=0.8$, $\\tau_I = 0.8$, and $I^{\\text{ext}}_I=0$). How does the firing rate of the $I$ population changes with excitatory vs inhibitory drive into the inhibitory population?"
   ]
  },
  {
   "cell_type": "markdown",
   "metadata": {},
   "source": [
    " Make sure you execute this cell to enable the widget!\n"
   ]
  },
  {
   "cell_type": "code",
   "execution_count": null,
   "metadata": {
    "cellView": "form",
    "tags": [
     "hide-input"
    ]
   },
   "outputs": [],
   "source": [
    "# @title\n",
    "\n",
    "# @markdown Make sure you execute this cell to enable the widget!\n",
    "\n",
    "pars = default_pars(T=50., dt=0.1)\n",
    "pars['wEE'], pars['wEI'] = 6.4, 4.8\n",
    "pars['wIE'], pars['wII'] = 6.0, 1.2\n",
    "pars['I_ext_E'] = 0.8\n",
    "pars['tau_I'] = 0.8\n",
    "\n",
    "@widgets.interact(\n",
    "    dI=widgets.FloatSlider(0., min=-0.2, max=0.2, step=.05)\n",
    ")\n",
    "\n",
    "\n",
    "def ISN_I_perturb(dI=0.1):\n",
    "  Lt = len(pars['range_t'])\n",
    "  pars['I_ext_I'] = np.zeros(Lt)\n",
    "  pars['I_ext_I'][int(Lt / 2):] = dI\n",
    "\n",
    "  pars['rE_init'], pars['rI_init'] = 0.6, 0.26\n",
    "  rE, rI = simulate_wc(**pars)\n",
    "\n",
    "  plt.figure(figsize=(8, 1.5))\n",
    "\n",
    "  plt.plot(pars['range_t'], pars['I_ext_I'], 'k')\n",
    "  plt.xlabel('t (ms)')\n",
    "  plt.ylabel(r'$I_I^{\\mathrm{ext}}$')\n",
    "  plt.ylim(pars['I_ext_I'].min() - 0.01, pars['I_ext_I'].max() + 0.01)\n",
    "  plt.show()\n",
    "\n",
    "  plt.figure(figsize=(8, 4.5))\n",
    "  plt.plot(pars['range_t'], rE, 'b', label=r'$r_E$')\n",
    "  plt.plot(pars['range_t'], rE[int(Lt / 2) - 1] * np.ones(Lt), 'b--')\n",
    "  plt.plot(pars['range_t'], rI, 'r', label=r'$r_I$')\n",
    "  plt.plot(pars['range_t'], rI[int(Lt / 2) - 1] * np.ones(Lt), 'r--')\n",
    "  plt.ylim(0, 0.8)\n",
    "  plt.xlabel('t (ms)')\n",
    "  plt.ylabel('Activity')\n",
    "  plt.legend(loc='best')\n",
    "  plt.show()"
   ]
  },
  {
   "cell_type": "markdown",
   "metadata": {
    "colab_type": "text",
    "execution": {}
   },
   "source": [
    "[*Click for solution*](https://github.com/NeuromatchAcademy/course-content/tree/main/tutorials/W2D4_DynamicNetworks/solutions/W2D4_Tutorial3_Solution_cec4906e.py)"
   ]
  },
  {
   "cell_type": "markdown",
   "metadata": {
    "execution": {}
   },
   "source": [
    "---\n",
    "## Section 3: Fixed point and working memory"
   ]
  },
  {
   "cell_type": "markdown",
   "metadata": {
    "execution": {}
   },
   "source": [
    "The input into the neurons measured in the experiment is often very noisy ([links](http://www.scholarpedia.org/article/Stochastic_dynamical_systems)). Here, the noisy synaptic input current is modeled as an Ornstein-Uhlenbeck (OU) process, which has been used in the previous part of the tutorial.\n"
   ]
  },
  {
   "cell_type": "markdown",
   "metadata": {},
   "source": [
    " Make sure you execute this cell to enable the function my_OU and plot the input current!\n"
   ]
  },
  {
   "cell_type": "code",
   "execution_count": null,
   "metadata": {
    "cellView": "form",
    "tags": [
     "hide-input"
    ]
   },
   "outputs": [],
   "source": [
    "# @markdown Make sure you execute this cell to enable the function my_OU and plot the input current!\n",
    "\n",
    "\n",
    "def my_OU(pars, sig, myseed=False):\n",
    "  \"\"\"\n",
    "  Expects:\n",
    "  pars       : parameter dictionary\n",
    "  sig        : noise amplitute\n",
    "  myseed     : random seed. int or boolean\n",
    "\n",
    "  Returns:\n",
    "  I          : Ornstein-Uhlenbeck input current\n",
    "  \"\"\"\n",
    "\n",
    "  # Retrieve simulation parameters\n",
    "  dt, range_t = pars['dt'], pars['range_t']\n",
    "  Lt = range_t.size\n",
    "  tau_ou = pars['tau_ou']  # [ms]\n",
    "\n",
    "  # set random seed\n",
    "  if myseed:\n",
    "      np.random.seed(seed=myseed)\n",
    "  else:\n",
    "      np.random.seed()\n",
    "\n",
    "  # Initialize\n",
    "  noise = np.random.randn(Lt)\n",
    "  I_ou = np.zeros(Lt)\n",
    "  I_ou[0] = noise[0] * sig\n",
    "\n",
    "  # generate OU\n",
    "  for it in range(Lt-1):\n",
    "      I_ou[it+1] = (I_ou[it]\n",
    "                    + dt / tau_ou * (0. - I_ou[it])\n",
    "                    + np.sqrt(2 * dt / tau_ou) * sig * noise[it + 1])\n",
    "  return I_ou\n",
    "\n",
    "\n",
    "pars = default_pars(T=50)\n",
    "pars['tau_ou'] = 1.  # [ms]\n",
    "sig_ou = 0.1\n",
    "I_ou = my_OU(pars, sig=sig_ou, myseed=2020)\n",
    "plt.figure(figsize=(8, 5.5))\n",
    "plt.plot(pars['range_t'], I_ou, 'b')\n",
    "plt.xlabel('Time (ms)')\n",
    "plt.ylabel(r'$I_{\\mathrm{OU}}$')\n",
    "plt.show()"
   ]
  },
  {
   "cell_type": "markdown",
   "metadata": {
    "execution": {}
   },
   "source": [
    "\n",
    "\n",
    "With the default parameters, the system fluctuates around a resting state with the noisy input.\n"
   ]
  },
  {
   "cell_type": "markdown",
   "metadata": {},
   "source": [
    " Execute this cell to plot activity with noisy input current\n"
   ]
  },
  {
   "cell_type": "code",
   "execution_count": null,
   "metadata": {
    "cellView": "form",
    "tags": [
     "hide-input"
    ]
   },
   "outputs": [],
   "source": [
    "# @markdown Execute this cell to plot activity with noisy input current\n",
    "pars = default_pars(T=100)\n",
    "pars['tau_ou'] = 1.  # [ms]\n",
    "sig_ou = 0.1\n",
    "pars['I_ext_E'] = my_OU(pars, sig=sig_ou, myseed=20201)\n",
    "pars['I_ext_I'] = my_OU(pars, sig=sig_ou, myseed=20202)\n",
    "\n",
    "pars['rE_init'], pars['rI_init'] = 0.1, 0.1\n",
    "rE, rI = simulate_wc(**pars)\n",
    "\n",
    "plt.figure(figsize=(8, 5.5))\n",
    "ax = plt.subplot(111)\n",
    "ax.plot(pars['range_t'], rE, 'b', label='E population')\n",
    "ax.plot(pars['range_t'], rI, 'r', label='I population')\n",
    "ax.set_xlabel('t (ms)')\n",
    "ax.set_ylabel('Activity')\n",
    "ax.legend(loc='best')\n",
    "plt.show()"
   ]
  },
  {
   "cell_type": "markdown",
   "metadata": {
    "execution": {}
   },
   "source": [
    "#### Interactive Demo 3: Short pulse induced persistent activity\n",
    "Then, let's use a brief 10-ms positive current to the E population when the system is at its equilibrium. When this amplitude (SE below) is sufficiently large, a persistent activity is produced that outlasts the transient input. What is the firing rate of the persistent activity, and what is the critical input strength? Try to understand the phenomena from the above phase-plane analysis."
   ]
  },
  {
   "cell_type": "markdown",
   "metadata": {},
   "source": [
    " Make sure you execute this cell to enable the widget!\n"
   ]
  },
  {
   "cell_type": "code",
   "execution_count": null,
   "metadata": {
    "cellView": "form",
    "tags": [
     "hide-input"
    ]
   },
   "outputs": [],
   "source": [
    "# @markdown Make sure you execute this cell to enable the widget!\n",
    "def my_inject(pars, t_start, t_lag=10.):\n",
    "  \"\"\"\n",
    "  Expects:\n",
    "  pars       : parameter dictionary\n",
    "  t_start    : pulse starts [ms]\n",
    "  t_lag      : pulse lasts  [ms]\n",
    "\n",
    "  Returns:\n",
    "  I          : extra pulse time\n",
    "  \"\"\"\n",
    "\n",
    "  # Retrieve simulation parameters\n",
    "  dt, range_t = pars['dt'], pars['range_t']\n",
    "  Lt = range_t.size\n",
    "\n",
    "  # Initialize\n",
    "  I = np.zeros(Lt)\n",
    "\n",
    "  # pulse timing\n",
    "  N_start = int(t_start / dt)\n",
    "  N_lag = int(t_lag / dt)\n",
    "  I[N_start:N_start + N_lag] = 1.\n",
    "\n",
    "  return I\n",
    "\n",
    "\n",
    "pars = default_pars(T=100)\n",
    "pars['tau_ou'] = 1.  # [ms]\n",
    "sig_ou = 0.1\n",
    "pars['I_ext_I'] = my_OU(pars, sig=sig_ou, myseed=2021)\n",
    "pars['rE_init'], pars['rI_init'] = 0.1, 0.1\n",
    "\n",
    "\n",
    "# pulse\n",
    "I_pulse = my_inject(pars, t_start=20., t_lag=10.)\n",
    "L_pulse = sum(I_pulse > 0.)\n",
    "\n",
    "@widgets.interact(\n",
    "    SE=widgets.FloatSlider(0., min=0., max=1., step=.05)\n",
    ")\n",
    "\n",
    "\n",
    "def WC_with_pulse(SE=0.):\n",
    "  pars['I_ext_E'] = my_OU(pars, sig=sig_ou, myseed=2022)\n",
    "  pars['I_ext_E'] += SE * I_pulse\n",
    "\n",
    "  rE, rI = simulate_wc(**pars)\n",
    "\n",
    "  plt.figure(figsize=(8, 5.5))\n",
    "  ax = plt.subplot(111)\n",
    "  ax.plot(pars['range_t'], rE, 'b', label='E population')\n",
    "  ax.plot(pars['range_t'], rI, 'r', label='I population')\n",
    "\n",
    "  ax.plot(pars['range_t'][I_pulse > 0.], 1.0*np.ones(L_pulse), 'r', lw=3.)\n",
    "  ax.text(25, 1.05, 'stimulus on', horizontalalignment='center',\n",
    "          verticalalignment='bottom')\n",
    "  ax.set_ylim(-0.03, 1.2)\n",
    "  ax.set_xlabel('t (ms)')\n",
    "  ax.set_ylabel('Activity')\n",
    "  ax.legend(loc='best')\n",
    "  plt.show()"
   ]
  },
  {
   "cell_type": "markdown",
   "metadata": {
    "colab_type": "text",
    "execution": {}
   },
   "source": [
    "[*Click for solution*](https://github.com/NeuromatchAcademy/course-content/tree/main/tutorials/W2D4_DynamicNetworks/solutions/W2D4_Tutorial3_Solution_242e6b8c.py)"
   ]
  },
  {
   "cell_type": "markdown",
   "metadata": {},
   "source": [
    "# Done!"
   ]
  }
 ],
 "metadata": {
  "colab": {
   "collapsed_sections": [],
   "include_colab_link": true,
   "name": "Tutorial 3: Neuron Models",
   "provenance": [],
   "toc_visible": true
  },
  "kernel": {
   "display_name": "Python 3",
   "language": "python",
   "name": "python3"
  },
  "kernelspec": {
   "display_name": "Python 3 (ipykernel)",
   "language": "python",
   "name": "python3"
  },
  "language_info": {
   "codemirror_mode": {
    "name": "ipython",
    "version": 3
   },
   "file_extension": ".py",
   "mimetype": "text/x-python",
   "name": "python",
   "nbconvert_exporter": "python",
   "pygments_lexer": "ipython3",
   "version": "3.9.16"
  }
 },
 "nbformat": 4,
 "nbformat_minor": 4
}
